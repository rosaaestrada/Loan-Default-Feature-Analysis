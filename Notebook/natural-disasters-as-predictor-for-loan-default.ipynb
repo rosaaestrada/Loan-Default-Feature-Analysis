{
 "cells": [
  {
   "cell_type": "markdown",
   "id": "1f0d1ccc",
   "metadata": {
    "papermill": {
     "duration": 0.024882,
     "end_time": "2024-06-26T17:50:53.705860",
     "exception": false,
     "start_time": "2024-06-26T17:50:53.680978",
     "status": "completed"
    },
    "tags": []
   },
   "source": [
    "*Keywords:* Loan Default, Python, Machine Learning, Predictive Modeling, Logistic Regression, Random Forest, Decision Tree, Correlation Matrix"
   ]
  },
  {
   "cell_type": "markdown",
   "id": "c10dd1fa",
   "metadata": {
    "papermill": {
     "duration": 0.025252,
     "end_time": "2024-06-26T17:50:53.755073",
     "exception": false,
     "start_time": "2024-06-26T17:50:53.729821",
     "status": "completed"
    },
    "tags": []
   },
   "source": [
    "## Project Overview and Objectives"
   ]
  },
  {
   "cell_type": "markdown",
   "id": "3bbd6e9a",
   "metadata": {
    "papermill": {
     "duration": 0.024309,
     "end_time": "2024-06-26T17:50:53.804158",
     "exception": false,
     "start_time": "2024-06-26T17:50:53.779849",
     "status": "completed"
    },
    "tags": []
   },
   "source": [
    "**Resaerch Question:** \n",
    "\n",
    "Could the occurence of natural disasters, as witness in the United States from 2012 to 2019, be used as a predictor for loans defaults?\n",
    "\n",
    "**Alternative Hypothesis (H1):** \n",
    "\n",
    "Suggests that the occurence of natural disasters in the United States from 2012-2019 is a significant predictor for loan default.\n",
    "\n",
    "**Null Hypothesis (H0):** \n",
    "\n",
    "Suggests that the occurence ofnatural disasters in the United States from 2012 to 2019 has no predictive power for loan defualts.\n",
    "\n",
    "**Methodology**\n",
    "\n",
    "This project is an extension to the \"Predicting What Features Influence Loan Default\" notebook. It employs a structured methodology consisting of several key stages: data cleaning, Exploratory Data Analysis (EDA), feature engineering, and feature selection. Following those steps, predictive modeling is conducted utilizing Logistic Regression, Random Forest, and Decision Tree algorithms. Finally, the project culminates with a comprehensive feature importance analysis, using techniques such as Confusion Matrix and ROC Curve evaluation. "
   ]
  },
  {
   "cell_type": "markdown",
   "id": "802b3016",
   "metadata": {
    "papermill": {
     "duration": 0.023966,
     "end_time": "2024-06-26T17:50:53.852708",
     "exception": false,
     "start_time": "2024-06-26T17:50:53.828742",
     "status": "completed"
    },
    "tags": []
   },
   "source": [
    "**Dataset:**\n",
    "- Lending Club Loan Data; located on Kaggle\n",
    "- US Natural Disaters Declarations; located on Kaggle\n",
    "\n",
    "**First research question to this project:** Analyzing what factors influence loan default in the U.S. Located on Kaggle \"Predicting Factors Influencing Loan Default in U.S\"\n",
    "\n",
    "[Kaggle.com: rosaaestrada - Predicting Factors Influencing Loan Default in U.S](https://www.kaggle.com/code/rosaaestrada/predicting-factors-influencing-loan-default-in-u-s)"
   ]
  },
  {
   "cell_type": "markdown",
   "id": "5bad8faf",
   "metadata": {
    "papermill": {
     "duration": 0.024402,
     "end_time": "2024-06-26T17:50:53.902539",
     "exception": false,
     "start_time": "2024-06-26T17:50:53.878137",
     "status": "completed"
    },
    "tags": []
   },
   "source": [
    "## Importing the data"
   ]
  },
  {
   "cell_type": "code",
   "execution_count": 1,
   "id": "22e63a5d",
   "metadata": {
    "execution": {
     "iopub.execute_input": "2024-06-26T17:50:53.953548Z",
     "iopub.status.busy": "2024-06-26T17:50:53.953148Z",
     "iopub.status.idle": "2024-06-26T17:50:56.686588Z",
     "shell.execute_reply": "2024-06-26T17:50:56.685519Z"
    },
    "papermill": {
     "duration": 2.761984,
     "end_time": "2024-06-26T17:50:56.689199",
     "exception": false,
     "start_time": "2024-06-26T17:50:53.927215",
     "status": "completed"
    },
    "tags": []
   },
   "outputs": [],
   "source": [
    "#Import libaries\n",
    "%matplotlib inline\n",
    "\n",
    "import random\n",
    "import numpy as np\n",
    "import pandas as pd\n",
    "import seaborn as sns\n",
    "import matplotlib.pyplot as plt\n",
    "\n",
    "from imblearn import under_sampling\n",
    "from imblearn.under_sampling import RandomUnderSampler\n",
    "from sklearn.model_selection import train_test_split\n",
    "from sklearn.ensemble import RandomForestClassifier\n",
    "from sklearn.metrics import classification_report"
   ]
  },
  {
   "cell_type": "code",
   "execution_count": 2,
   "id": "a8b4a80a",
   "metadata": {
    "execution": {
     "iopub.execute_input": "2024-06-26T17:50:56.741280Z",
     "iopub.status.busy": "2024-06-26T17:50:56.740244Z",
     "iopub.status.idle": "2024-06-26T17:52:19.393156Z",
     "shell.execute_reply": "2024-06-26T17:52:19.388679Z"
    },
    "papermill": {
     "duration": 82.684881,
     "end_time": "2024-06-26T17:52:19.398949",
     "exception": false,
     "start_time": "2024-06-26T17:50:56.714068",
     "status": "completed"
    },
    "tags": []
   },
   "outputs": [],
   "source": [
    "#Loading loan dataset\n",
    "df_loan = pd.read_csv('/kaggle/input/lending-club-loan-data-csv/loan.csv', low_memory = False)"
   ]
  },
  {
   "cell_type": "code",
   "execution_count": 3,
   "id": "3c3b7b4e",
   "metadata": {
    "execution": {
     "iopub.execute_input": "2024-06-26T17:52:19.639152Z",
     "iopub.status.busy": "2024-06-26T17:52:19.635798Z",
     "iopub.status.idle": "2024-06-26T17:52:20.730492Z",
     "shell.execute_reply": "2024-06-26T17:52:20.727501Z"
    },
    "papermill": {
     "duration": 1.236068,
     "end_time": "2024-06-26T17:52:20.740456",
     "exception": false,
     "start_time": "2024-06-26T17:52:19.504388",
     "status": "completed"
    },
    "tags": []
   },
   "outputs": [
    {
     "data": {
      "text/html": [
       "<div>\n",
       "<style scoped>\n",
       "    .dataframe tbody tr th:only-of-type {\n",
       "        vertical-align: middle;\n",
       "    }\n",
       "\n",
       "    .dataframe tbody tr th {\n",
       "        vertical-align: top;\n",
       "    }\n",
       "\n",
       "    .dataframe thead th {\n",
       "        text-align: right;\n",
       "    }\n",
       "</style>\n",
       "<table border=\"1\" class=\"dataframe\">\n",
       "  <thead>\n",
       "    <tr style=\"text-align: right;\">\n",
       "      <th></th>\n",
       "      <th>last_pymnt_amnt</th>\n",
       "      <th>total_rec_prncp</th>\n",
       "      <th>last_pymnt_d</th>\n",
       "      <th>loan_status</th>\n",
       "    </tr>\n",
       "  </thead>\n",
       "  <tbody>\n",
       "    <tr>\n",
       "      <th>0</th>\n",
       "      <td>84.92</td>\n",
       "      <td>113.98</td>\n",
       "      <td>Feb-2019</td>\n",
       "      <td>Current</td>\n",
       "    </tr>\n",
       "    <tr>\n",
       "      <th>1</th>\n",
       "      <td>777.23</td>\n",
       "      <td>612.25</td>\n",
       "      <td>Feb-2019</td>\n",
       "      <td>Current</td>\n",
       "    </tr>\n",
       "    <tr>\n",
       "      <th>2</th>\n",
       "      <td>180.69</td>\n",
       "      <td>212.79</td>\n",
       "      <td>Feb-2019</td>\n",
       "      <td>Current</td>\n",
       "    </tr>\n",
       "    <tr>\n",
       "      <th>3</th>\n",
       "      <td>146.51</td>\n",
       "      <td>168.07</td>\n",
       "      <td>Feb-2019</td>\n",
       "      <td>Current</td>\n",
       "    </tr>\n",
       "    <tr>\n",
       "      <th>4</th>\n",
       "      <td>731.78</td>\n",
       "      <td>660.98</td>\n",
       "      <td>Feb-2019</td>\n",
       "      <td>Current</td>\n",
       "    </tr>\n",
       "  </tbody>\n",
       "</table>\n",
       "</div>"
      ],
      "text/plain": [
       "   last_pymnt_amnt  total_rec_prncp last_pymnt_d loan_status\n",
       "0            84.92           113.98     Feb-2019     Current\n",
       "1           777.23           612.25     Feb-2019     Current\n",
       "2           180.69           212.79     Feb-2019     Current\n",
       "3           146.51           168.07     Feb-2019     Current\n",
       "4           731.78           660.98     Feb-2019     Current"
      ]
     },
     "execution_count": 3,
     "metadata": {},
     "output_type": "execute_result"
    }
   ],
   "source": [
    "#Select features\n",
    "cols = ['last_pymnt_amnt', 'total_rec_prncp', 'last_pymnt_d', 'loan_status']\n",
    "\n",
    "df_loan = df_loan[cols]\n",
    "df_loan.head(5)"
   ]
  },
  {
   "cell_type": "code",
   "execution_count": 4,
   "id": "a42a6491",
   "metadata": {
    "execution": {
     "iopub.execute_input": "2024-06-26T17:52:20.946054Z",
     "iopub.status.busy": "2024-06-26T17:52:20.942978Z",
     "iopub.status.idle": "2024-06-26T17:52:25.691113Z",
     "shell.execute_reply": "2024-06-26T17:52:25.689785Z"
    },
    "papermill": {
     "duration": 4.855442,
     "end_time": "2024-06-26T17:52:25.696293",
     "exception": false,
     "start_time": "2024-06-26T17:52:20.840851",
     "status": "completed"
    },
    "tags": []
   },
   "outputs": [
    {
     "data": {
      "image/png": "[encoded data removed]",
      "text/plain": [
       "<Figure size 1200x800 with 4 Axes>"
      ]
     },
     "metadata": {},
     "output_type": "display_data"
    }
   ],
   "source": [
    "# Set the size of the plot\n",
    "plt.figure(figsize=(12, 8))\n",
    "\n",
    "# Define selected categories for specific variables\n",
    "selected_ticks = {\n",
    "    'last_pymnt_d': ['Aug-2017', 'December-2018', 'May-2014'],\n",
    "    'loan_status': ['Current', 'Fully Paid', 'Charged Off', 'Default']\n",
    "}\n",
    "\n",
    "# Iterate through each variable and create a histogram\n",
    "for i, col in enumerate(df_loan.columns):\n",
    "    plt.subplot(2, 2, i+1)  # Create subplots in a 2x2 grid\n",
    "    df_loan[col].hist(color='steelblue', bins=20)  # Create histogram\n",
    "    plt.title(col)  # Set title for each subplot\n",
    "    \n",
    "    # Show only selected categories for specific variables\n",
    "    if col in selected_ticks:\n",
    "        plt.xticks(selected_ticks[col])  # Show selected category names under the plots\n",
    "    else:\n",
    "        plt.xticks(rotation=0)  # Rotate category names for better readability\n",
    "\n",
    "# Adjust layout\n",
    "plt.tight_layout()\n",
    "\n",
    "# Show plot\n",
    "plt.show()"
   ]
  },
  {
   "cell_type": "code",
   "execution_count": 5,
   "id": "0af188ad",
   "metadata": {
    "execution": {
     "iopub.execute_input": "2024-06-26T17:52:25.758783Z",
     "iopub.status.busy": "2024-06-26T17:52:25.757426Z",
     "iopub.status.idle": "2024-06-26T17:52:25.765966Z",
     "shell.execute_reply": "2024-06-26T17:52:25.764768Z"
    },
    "papermill": {
     "duration": 0.040737,
     "end_time": "2024-06-26T17:52:25.768474",
     "exception": false,
     "start_time": "2024-06-26T17:52:25.727737",
     "status": "completed"
    },
    "tags": []
   },
   "outputs": [
    {
     "data": {
      "text/plain": [
       "(2260668, 4)"
      ]
     },
     "execution_count": 5,
     "metadata": {},
     "output_type": "execute_result"
    }
   ],
   "source": [
    "df_loan.shape"
   ]
  },
  {
   "cell_type": "markdown",
   "id": "9f2e0318",
   "metadata": {
    "papermill": {
     "duration": 0.129274,
     "end_time": "2024-06-26T17:52:25.924708",
     "exception": false,
     "start_time": "2024-06-26T17:52:25.795434",
     "status": "completed"
    },
    "tags": []
   },
   "source": [
    "# Data Cleaning"
   ]
  },
  {
   "cell_type": "markdown",
   "id": "37ee5f51",
   "metadata": {
    "papermill": {
     "duration": 0.026499,
     "end_time": "2024-06-26T17:52:25.979854",
     "exception": false,
     "start_time": "2024-06-26T17:52:25.953355",
     "status": "completed"
    },
    "tags": []
   },
   "source": [
    "## Missing Values"
   ]
  },
  {
   "cell_type": "code",
   "execution_count": 6,
   "id": "1ccefebf",
   "metadata": {
    "execution": {
     "iopub.execute_input": "2024-06-26T17:52:26.037287Z",
     "iopub.status.busy": "2024-06-26T17:52:26.036012Z",
     "iopub.status.idle": "2024-06-26T17:52:26.617275Z",
     "shell.execute_reply": "2024-06-26T17:52:26.616070Z"
    },
    "papermill": {
     "duration": 0.615089,
     "end_time": "2024-06-26T17:52:26.622017",
     "exception": false,
     "start_time": "2024-06-26T17:52:26.006928",
     "status": "completed"
    },
    "tags": []
   },
   "outputs": [
    {
     "data": {
      "text/html": [
       "<div>\n",
       "<style scoped>\n",
       "    .dataframe tbody tr th:only-of-type {\n",
       "        vertical-align: middle;\n",
       "    }\n",
       "\n",
       "    .dataframe tbody tr th {\n",
       "        vertical-align: top;\n",
       "    }\n",
       "\n",
       "    .dataframe thead th {\n",
       "        text-align: right;\n",
       "    }\n",
       "</style>\n",
       "<table border=\"1\" class=\"dataframe\">\n",
       "  <thead>\n",
       "    <tr style=\"text-align: right;\">\n",
       "      <th></th>\n",
       "      <th>Missing Values</th>\n",
       "      <th>Percentage</th>\n",
       "    </tr>\n",
       "  </thead>\n",
       "  <tbody>\n",
       "    <tr>\n",
       "      <th>last_pymnt_amnt</th>\n",
       "      <td>0</td>\n",
       "      <td>0.000000</td>\n",
       "    </tr>\n",
       "    <tr>\n",
       "      <th>total_rec_prncp</th>\n",
       "      <td>0</td>\n",
       "      <td>0.000000</td>\n",
       "    </tr>\n",
       "    <tr>\n",
       "      <th>last_pymnt_d</th>\n",
       "      <td>2426</td>\n",
       "      <td>0.107313</td>\n",
       "    </tr>\n",
       "    <tr>\n",
       "      <th>loan_status</th>\n",
       "      <td>0</td>\n",
       "      <td>0.000000</td>\n",
       "    </tr>\n",
       "  </tbody>\n",
       "</table>\n",
       "</div>"
      ],
      "text/plain": [
       "                 Missing Values  Percentage\n",
       "last_pymnt_amnt               0    0.000000\n",
       "total_rec_prncp               0    0.000000\n",
       "last_pymnt_d               2426    0.107313\n",
       "loan_status                   0    0.000000"
      ]
     },
     "execution_count": 6,
     "metadata": {},
     "output_type": "execute_result"
    }
   ],
   "source": [
    "#Checking missing values and their percentage\n",
    "missing_values = df_loan.isnull().sum()\n",
    "missing_percentage = (missing_values / len(df_loan)) * 100\n",
    "\n",
    "#Combining both into a DataFrame\n",
    "missing_df = pd.DataFrame({'Missing Values': missing_values, 'Percentage': missing_percentage})\n",
    "\n",
    "missing_df"
   ]
  },
  {
   "cell_type": "code",
   "execution_count": 7,
   "id": "4b0c2c66",
   "metadata": {
    "execution": {
     "iopub.execute_input": "2024-06-26T17:52:26.685406Z",
     "iopub.status.busy": "2024-06-26T17:52:26.684407Z",
     "iopub.status.idle": "2024-06-26T17:52:27.252239Z",
     "shell.execute_reply": "2024-06-26T17:52:27.251123Z"
    },
    "papermill": {
     "duration": 0.599202,
     "end_time": "2024-06-26T17:52:27.254941",
     "exception": false,
     "start_time": "2024-06-26T17:52:26.655739",
     "status": "completed"
    },
    "tags": []
   },
   "outputs": [
    {
     "name": "stderr",
     "output_type": "stream",
     "text": [
      "/tmp/ipykernel_18/994291755.py:2: FutureWarning: A value is trying to be set on a copy of a DataFrame or Series through chained assignment using an inplace method.\n",
      "The behavior will change in pandas 3.0. This inplace method will never work because the intermediate object on which we are setting values always behaves as a copy.\n",
      "\n",
      "For example, when doing 'df[col].method(value, inplace=True)', try using 'df.method({col: value}, inplace=True)' or df[col] = df[col].method(value) instead, to perform the operation inplace on the original object.\n",
      "\n",
      "\n",
      "  df_loan['last_pymnt_d'].fillna(df_loan['last_pymnt_d'].mode()[0], inplace=True)\n"
     ]
    }
   ],
   "source": [
    "#Imputing with the most frequent value(mode)\n",
    "df_loan['last_pymnt_d'].fillna(df_loan['last_pymnt_d'].mode()[0], inplace=True)"
   ]
  },
  {
   "cell_type": "code",
   "execution_count": 8,
   "id": "df1b55ae",
   "metadata": {
    "execution": {
     "iopub.execute_input": "2024-06-26T17:52:27.310969Z",
     "iopub.status.busy": "2024-06-26T17:52:27.309963Z",
     "iopub.status.idle": "2024-06-26T17:52:27.550292Z",
     "shell.execute_reply": "2024-06-26T17:52:27.549036Z"
    },
    "papermill": {
     "duration": 0.270475,
     "end_time": "2024-06-26T17:52:27.552666",
     "exception": false,
     "start_time": "2024-06-26T17:52:27.282191",
     "status": "completed"
    },
    "tags": []
   },
   "outputs": [
    {
     "name": "stdout",
     "output_type": "stream",
     "text": [
      "                     count     mean      std  min      25%      50%       75%       max\n",
      "last_pymnt_amnt  2260668.0  3364.02  5971.76  0.0   308.64   588.47   3534.96  42192.05\n",
      "total_rec_prncp  2260668.0  9300.14  8304.89  0.0  2846.18  6823.38  13397.50  40000.00\n"
     ]
    }
   ],
   "source": [
    "#list numeric features along with their statistical description\n",
    "des = df_loan.select_dtypes(exclude=['object']).describe().round(decimals=2).transpose()\n",
    "print(des.to_string())"
   ]
  },
  {
   "cell_type": "code",
   "execution_count": 9,
   "id": "de2b87d0",
   "metadata": {
    "execution": {
     "iopub.execute_input": "2024-06-26T17:52:27.613574Z",
     "iopub.status.busy": "2024-06-26T17:52:27.613163Z",
     "iopub.status.idle": "2024-06-26T17:52:28.503050Z",
     "shell.execute_reply": "2024-06-26T17:52:28.501855Z"
    },
    "papermill": {
     "duration": 0.92336,
     "end_time": "2024-06-26T17:52:28.505538",
     "exception": false,
     "start_time": "2024-06-26T17:52:27.582178",
     "status": "completed"
    },
    "tags": []
   },
   "outputs": [
    {
     "data": {
      "text/plain": [
       "array([[<Axes: title={'center': 'last_pymnt_amnt'}>,\n",
       "        <Axes: title={'center': 'total_rec_prncp'}>],\n",
       "       [<Axes: >, <Axes: >]], dtype=object)"
      ]
     },
     "execution_count": 9,
     "metadata": {},
     "output_type": "execute_result"
    },
    {
     "data": {
      "image/png": "[encoded data removed]",
      "text/plain": [
       "<Figure size 2000x1500 with 4 Axes>"
      ]
     },
     "metadata": {},
     "output_type": "display_data"
    }
   ],
   "source": [
    "#Plotting histograms\n",
    "df_loan[['last_pymnt_amnt', 'total_rec_prncp']].hist(bins=50, figsize=(20, 15), layout=(2,2), color='skyblue', \n",
    "                                                     edgecolor='black')"
   ]
  },
  {
   "cell_type": "code",
   "execution_count": 10,
   "id": "a6f5f74a",
   "metadata": {
    "execution": {
     "iopub.execute_input": "2024-06-26T17:52:28.564326Z",
     "iopub.status.busy": "2024-06-26T17:52:28.563970Z",
     "iopub.status.idle": "2024-06-26T17:52:28.619048Z",
     "shell.execute_reply": "2024-06-26T17:52:28.617645Z"
    },
    "papermill": {
     "duration": 0.086925,
     "end_time": "2024-06-26T17:52:28.621363",
     "exception": false,
     "start_time": "2024-06-26T17:52:28.534438",
     "status": "completed"
    },
    "tags": []
   },
   "outputs": [
    {
     "name": "stdout",
     "output_type": "stream",
     "text": [
      "-4530.8475 8374.4525\n"
     ]
    }
   ],
   "source": [
    "#Find the 25 and 75 percentiles\n",
    "q1, q3 = np.percentile(df_loan['last_pymnt_amnt'],[25, 75])\n",
    "\n",
    "#Find the IQR and the cutoffs for the outliers\n",
    "IQR = q3 - q1\n",
    "lowerOutliers= q1 - 1.5*IQR  \n",
    "upperOutliers= q3 + 1.5*IQR   \n",
    "print(lowerOutliers, upperOutliers)"
   ]
  },
  {
   "cell_type": "code",
   "execution_count": 11,
   "id": "aca05e5e",
   "metadata": {
    "execution": {
     "iopub.execute_input": "2024-06-26T17:52:28.684958Z",
     "iopub.status.busy": "2024-06-26T17:52:28.684547Z",
     "iopub.status.idle": "2024-06-26T17:52:28.767818Z",
     "shell.execute_reply": "2024-06-26T17:52:28.766779Z"
    },
    "papermill": {
     "duration": 0.118418,
     "end_time": "2024-06-26T17:52:28.770603",
     "exception": false,
     "start_time": "2024-06-26T17:52:28.652185",
     "status": "completed"
    },
    "tags": []
   },
   "outputs": [],
   "source": [
    "#Drop outliers in last_pymnt_amnt\n",
    "df_loan = df_loan[df_loan['last_pymnt_amnt'] < 8374.4525 ]"
   ]
  },
  {
   "cell_type": "markdown",
   "id": "91c02182",
   "metadata": {
    "papermill": {
     "duration": 0.032038,
     "end_time": "2024-06-26T17:52:28.834281",
     "exception": false,
     "start_time": "2024-06-26T17:52:28.802243",
     "status": "completed"
    },
    "tags": []
   },
   "source": [
    "## Check Duplicate Rows"
   ]
  },
  {
   "cell_type": "code",
   "execution_count": 12,
   "id": "6bbf3547",
   "metadata": {
    "execution": {
     "iopub.execute_input": "2024-06-26T17:52:28.897242Z",
     "iopub.status.busy": "2024-06-26T17:52:28.896848Z",
     "iopub.status.idle": "2024-06-26T17:52:29.462851Z",
     "shell.execute_reply": "2024-06-26T17:52:29.461575Z"
    },
    "papermill": {
     "duration": 0.600022,
     "end_time": "2024-06-26T17:52:29.465211",
     "exception": false,
     "start_time": "2024-06-26T17:52:28.865189",
     "status": "completed"
    },
    "tags": []
   },
   "outputs": [
    {
     "name": "stdout",
     "output_type": "stream",
     "text": [
      "Number of duplicate rows: 619139\n"
     ]
    }
   ],
   "source": [
    "#check if there are some duplicate rows\n",
    "number_of_duplicates = df_loan.duplicated().sum()\n",
    "\n",
    "print(f\"Number of duplicate rows: {number_of_duplicates}\")"
   ]
  },
  {
   "cell_type": "code",
   "execution_count": 13,
   "id": "fca0db3d",
   "metadata": {
    "execution": {
     "iopub.execute_input": "2024-06-26T17:52:29.524983Z",
     "iopub.status.busy": "2024-06-26T17:52:29.524169Z",
     "iopub.status.idle": "2024-06-26T17:52:30.168552Z",
     "shell.execute_reply": "2024-06-26T17:52:30.167465Z"
    },
    "papermill": {
     "duration": 0.677883,
     "end_time": "2024-06-26T17:52:30.171302",
     "exception": false,
     "start_time": "2024-06-26T17:52:29.493419",
     "status": "completed"
    },
    "tags": []
   },
   "outputs": [],
   "source": [
    "df_loan.drop_duplicates(inplace=True)"
   ]
  },
  {
   "cell_type": "code",
   "execution_count": 14,
   "id": "080625df",
   "metadata": {
    "execution": {
     "iopub.execute_input": "2024-06-26T17:52:30.229885Z",
     "iopub.status.busy": "2024-06-26T17:52:30.229438Z",
     "iopub.status.idle": "2024-06-26T17:52:30.237072Z",
     "shell.execute_reply": "2024-06-26T17:52:30.235913Z"
    },
    "papermill": {
     "duration": 0.040029,
     "end_time": "2024-06-26T17:52:30.239574",
     "exception": false,
     "start_time": "2024-06-26T17:52:30.199545",
     "status": "completed"
    },
    "tags": []
   },
   "outputs": [
    {
     "data": {
      "text/plain": [
       "(1315490, 4)"
      ]
     },
     "execution_count": 14,
     "metadata": {},
     "output_type": "execute_result"
    }
   ],
   "source": [
    "df_loan.shape"
   ]
  },
  {
   "cell_type": "markdown",
   "id": "6ec05509",
   "metadata": {
    "papermill": {
     "duration": 0.032458,
     "end_time": "2024-06-26T17:52:30.304942",
     "exception": false,
     "start_time": "2024-06-26T17:52:30.272484",
     "status": "completed"
    },
    "tags": []
   },
   "source": [
    "# Exploratory Data Analysis (EDA)"
   ]
  },
  {
   "cell_type": "markdown",
   "id": "677c59a5",
   "metadata": {
    "papermill": {
     "duration": 0.030601,
     "end_time": "2024-06-26T17:52:30.367470",
     "exception": false,
     "start_time": "2024-06-26T17:52:30.336869",
     "status": "completed"
    },
    "tags": []
   },
   "source": [
    "## Target Variable Analysis"
   ]
  },
  {
   "cell_type": "code",
   "execution_count": 15,
   "id": "b6f1049e",
   "metadata": {
    "execution": {
     "iopub.execute_input": "2024-06-26T17:52:30.431076Z",
     "iopub.status.busy": "2024-06-26T17:52:30.430632Z",
     "iopub.status.idle": "2024-06-26T17:52:30.558244Z",
     "shell.execute_reply": "2024-06-26T17:52:30.557173Z"
    },
    "papermill": {
     "duration": 0.162113,
     "end_time": "2024-06-26T17:52:30.560948",
     "exception": false,
     "start_time": "2024-06-26T17:52:30.398835",
     "status": "completed"
    },
    "tags": []
   },
   "outputs": [],
   "source": [
    "#Drop other classes for the target variable\n",
    "df_loan = df_loan[df_loan['loan_status'].isin(['Fully Paid', 'Charged Off'])]"
   ]
  },
  {
   "cell_type": "code",
   "execution_count": 16,
   "id": "9c60ec2c",
   "metadata": {
    "execution": {
     "iopub.execute_input": "2024-06-26T17:52:30.620361Z",
     "iopub.status.busy": "2024-06-26T17:52:30.619930Z",
     "iopub.status.idle": "2024-06-26T17:52:30.921545Z",
     "shell.execute_reply": "2024-06-26T17:52:30.920079Z"
    },
    "papermill": {
     "duration": 0.335599,
     "end_time": "2024-06-26T17:52:30.925260",
     "exception": false,
     "start_time": "2024-06-26T17:52:30.589661",
     "status": "completed"
    },
    "tags": []
   },
   "outputs": [
    {
     "data": {
      "image/png": "[encoded data removed]",
      "text/plain": [
       "<Figure size 800x400 with 1 Axes>"
      ]
     },
     "metadata": {},
     "output_type": "display_data"
    }
   ],
   "source": [
    "#Bar chart for target variable loan_status\n",
    "loan_status_counts = df_loan['loan_status'].value_counts()\n",
    "\n",
    "plt.figure(figsize=(8, 4))\n",
    "plt.pie(loan_status_counts.values, labels=loan_status_counts.index, autopct='%1.1f%%', colors=['lightgreen', 'grey'])\n",
    "plt.title('Loan Status Distribution')\n",
    "plt.show()  "
   ]
  },
  {
   "cell_type": "markdown",
   "id": "19fd0152",
   "metadata": {
    "papermill": {
     "duration": 0.046516,
     "end_time": "2024-06-26T17:52:31.019945",
     "exception": false,
     "start_time": "2024-06-26T17:52:30.973429",
     "status": "completed"
    },
    "tags": []
   },
   "source": [
    "### Target Variable Imbalance"
   ]
  },
  {
   "cell_type": "code",
   "execution_count": 17,
   "id": "7e896bb9",
   "metadata": {
    "execution": {
     "iopub.execute_input": "2024-06-26T17:52:31.115262Z",
     "iopub.status.busy": "2024-06-26T17:52:31.114205Z",
     "iopub.status.idle": "2024-06-26T17:52:36.868296Z",
     "shell.execute_reply": "2024-06-26T17:52:36.863340Z"
    },
    "papermill": {
     "duration": 5.808893,
     "end_time": "2024-06-26T17:52:36.874979",
     "exception": false,
     "start_time": "2024-06-26T17:52:31.066086",
     "status": "completed"
    },
    "tags": []
   },
   "outputs": [
    {
     "data": {
      "image/png": "[encoded data removed]",
      "text/plain": [
       "<Figure size 800x400 with 1 Axes>"
      ]
     },
     "metadata": {},
     "output_type": "display_data"
    }
   ],
   "source": [
    "#Separate features and target variable\n",
    "X = df_loan.drop('loan_status', axis=1)\n",
    "y = df_loan['loan_status']\n",
    "\n",
    "#Initialize and fit to the data\n",
    "rus = RandomUnderSampler(random_state = 123)\n",
    "X_resampled, y_resampled = rus.fit_resample(X, y)\n",
    "\n",
    "#Plot the pie chart\n",
    "loan_status_resampled_counts = y_resampled.value_counts()\n",
    "\n",
    "plt.figure(figsize=(8, 4))\n",
    "plt.pie(loan_status_resampled_counts, labels=loan_status_resampled_counts.index, autopct='%1.1f%%',\n",
    "        colors=['grey', 'lightgreen'])\n",
    "plt.title('Loan Status Distribution After Resampling')\n",
    "plt.show()"
   ]
  },
  {
   "cell_type": "code",
   "execution_count": 18,
   "id": "9001b40c",
   "metadata": {
    "execution": {
     "iopub.execute_input": "2024-06-26T17:52:36.964606Z",
     "iopub.status.busy": "2024-06-26T17:52:36.964250Z",
     "iopub.status.idle": "2024-06-26T17:52:37.048511Z",
     "shell.execute_reply": "2024-06-26T17:52:37.047345Z"
    },
    "papermill": {
     "duration": 0.1161,
     "end_time": "2024-06-26T17:52:37.050974",
     "exception": false,
     "start_time": "2024-06-26T17:52:36.934874",
     "status": "completed"
    },
    "tags": []
   },
   "outputs": [
    {
     "name": "stdout",
     "output_type": "stream",
     "text": [
      "loan_status\n",
      "Charged Off    253270\n",
      "Fully Paid     253270\n",
      "Name: count, dtype: int64\n"
     ]
    }
   ],
   "source": [
    "#Combine X_resampled and y_resampled back into a new DataFrame\n",
    "resampled_df = pd.concat([X_resampled, y_resampled], axis=1)\n",
    "\n",
    "#Verify\n",
    "print(resampled_df['loan_status'].value_counts())"
   ]
  },
  {
   "cell_type": "code",
   "execution_count": 19,
   "id": "2e565f3b",
   "metadata": {
    "execution": {
     "iopub.execute_input": "2024-06-26T17:52:37.110543Z",
     "iopub.status.busy": "2024-06-26T17:52:37.109926Z",
     "iopub.status.idle": "2024-06-26T17:52:37.456383Z",
     "shell.execute_reply": "2024-06-26T17:52:37.455327Z"
    },
    "papermill": {
     "duration": 0.378224,
     "end_time": "2024-06-26T17:52:37.458986",
     "exception": false,
     "start_time": "2024-06-26T17:52:37.080762",
     "status": "completed"
    },
    "tags": []
   },
   "outputs": [
    {
     "name": "stderr",
     "output_type": "stream",
     "text": [
      "/tmp/ipykernel_18/797273918.py:2: FutureWarning: Downcasting behavior in `replace` is deprecated and will be removed in a future version. To retain the old behavior, explicitly call `result.infer_objects(copy=False)`. To opt-in to the future behavior, set `pd.set_option('future.no_silent_downcasting', True)`\n",
      "  resampled_df['loan_status'] = resampled_df['loan_status'].replace({'Fully Paid': 0, 'Charged Off': 1})\n"
     ]
    }
   ],
   "source": [
    "#Re-label target variable: 'fully paid' to 0 and 'charged off' to 1\n",
    "resampled_df['loan_status'] = resampled_df['loan_status'].replace({'Fully Paid': 0, 'Charged Off': 1})"
   ]
  },
  {
   "cell_type": "code",
   "execution_count": 20,
   "id": "193a40d7",
   "metadata": {
    "execution": {
     "iopub.execute_input": "2024-06-26T17:52:37.519749Z",
     "iopub.status.busy": "2024-06-26T17:52:37.518953Z",
     "iopub.status.idle": "2024-06-26T17:52:37.531619Z",
     "shell.execute_reply": "2024-06-26T17:52:37.530539Z"
    },
    "papermill": {
     "duration": 0.046495,
     "end_time": "2024-06-26T17:52:37.534095",
     "exception": false,
     "start_time": "2024-06-26T17:52:37.487600",
     "status": "completed"
    },
    "tags": []
   },
   "outputs": [
    {
     "data": {
      "text/plain": [
       "loan_status\n",
       "1    253270\n",
       "0    253270\n",
       "Name: count, dtype: int64"
      ]
     },
     "execution_count": 20,
     "metadata": {},
     "output_type": "execute_result"
    }
   ],
   "source": [
    "#Verify\n",
    "resampled_df['loan_status'].value_counts()"
   ]
  },
  {
   "cell_type": "code",
   "execution_count": 21,
   "id": "2840b306",
   "metadata": {
    "execution": {
     "iopub.execute_input": "2024-06-26T17:52:37.595766Z",
     "iopub.status.busy": "2024-06-26T17:52:37.594692Z",
     "iopub.status.idle": "2024-06-26T17:52:37.604613Z",
     "shell.execute_reply": "2024-06-26T17:52:37.603639Z"
    },
    "papermill": {
     "duration": 0.043065,
     "end_time": "2024-06-26T17:52:37.606930",
     "exception": false,
     "start_time": "2024-06-26T17:52:37.563865",
     "status": "completed"
    },
    "tags": []
   },
   "outputs": [],
   "source": [
    "df1 = resampled_df.copy()"
   ]
  },
  {
   "cell_type": "markdown",
   "id": "50310794",
   "metadata": {
    "papermill": {
     "duration": 0.028162,
     "end_time": "2024-06-26T17:52:37.664928",
     "exception": false,
     "start_time": "2024-06-26T17:52:37.636766",
     "status": "completed"
    },
    "tags": []
   },
   "source": [
    "### Categorical Variables"
   ]
  },
  {
   "cell_type": "code",
   "execution_count": 22,
   "id": "969e6fb5",
   "metadata": {
    "execution": {
     "iopub.execute_input": "2024-06-26T17:52:37.724562Z",
     "iopub.status.busy": "2024-06-26T17:52:37.724175Z",
     "iopub.status.idle": "2024-06-26T17:52:37.770773Z",
     "shell.execute_reply": "2024-06-26T17:52:37.769768Z"
    },
    "papermill": {
     "duration": 0.078955,
     "end_time": "2024-06-26T17:52:37.772955",
     "exception": false,
     "start_time": "2024-06-26T17:52:37.694000",
     "status": "completed"
    },
    "tags": []
   },
   "outputs": [
    {
     "data": {
      "text/plain": [
       "array(['Feb-2019', 'Dec-2018', 'Jan-2019', 'Nov-2018', 'Oct-2018',\n",
       "       'Sep-2018', 'Aug-2018', 'Jul-2018', 'Jun-2018', 'May-2018',\n",
       "       'Apr-2018', 'Mar-2018', 'Feb-2018', 'Oct-2017', 'Aug-2017',\n",
       "       'Dec-2017', 'Nov-2017', 'Mar-2017', 'Sep-2017', 'May-2017',\n",
       "       'Apr-2017', 'Jun-2017', 'Jan-2018', 'Jan-2017', 'Dec-2016',\n",
       "       'Jul-2017', 'Feb-2017', 'Nov-2016', 'Oct-2016', 'Sep-2016',\n",
       "       'Aug-2016', 'Jul-2016', 'Jun-2016', 'May-2016', 'Apr-2016',\n",
       "       'Mar-2016', 'Feb-2016', 'Jan-2016', 'Dec-2015', 'Nov-2015',\n",
       "       'Oct-2015', 'Sep-2015', 'Aug-2015', 'Jul-2015', 'Jun-2015',\n",
       "       'May-2015', 'Apr-2015', 'Mar-2015', 'Feb-2015', 'Dec-2014',\n",
       "       'Nov-2014', 'Apr-2014', 'Mar-2014', 'Jul-2014', 'May-2014',\n",
       "       'Jan-2015', 'Sep-2014', 'Aug-2014', 'Jun-2014', 'Oct-2014',\n",
       "       'Feb-2014', 'Jan-2014', 'Dec-2013', 'Nov-2013', 'Oct-2013',\n",
       "       'Sep-2013', 'Aug-2013', 'Jul-2013', 'Jun-2013', 'May-2013',\n",
       "       'Apr-2013', 'Mar-2013', 'Feb-2013', 'Jan-2013', 'Dec-2012',\n",
       "       'Nov-2012', 'Oct-2012', 'Sep-2012', 'Aug-2012', 'Jul-2012',\n",
       "       'Jun-2012', 'May-2012', 'Apr-2012', 'Mar-2012', 'Feb-2012',\n",
       "       'Jan-2012', 'Dec-2011', 'Nov-2011', 'Oct-2011', 'Sep-2011',\n",
       "       'Aug-2011', 'Jul-2011', 'Jun-2011', 'Apr-2011', 'May-2011',\n",
       "       'Mar-2011', 'Feb-2011', 'Jan-2011', 'Dec-2010', 'Nov-2010',\n",
       "       'Oct-2010', 'Sep-2010', 'Aug-2010', 'Jul-2010', 'Jun-2010',\n",
       "       'May-2010', 'Apr-2010', 'Mar-2010', 'Feb-2010', 'Jan-2010',\n",
       "       'Dec-2009', 'Nov-2009', 'Oct-2009', 'Sep-2009', 'Aug-2009',\n",
       "       'Jul-2009', 'Jun-2009', 'May-2009', 'Apr-2009', 'Jan-2009',\n",
       "       'Mar-2009', 'Feb-2009', 'Oct-2008', 'Aug-2008', 'Jul-2008',\n",
       "       'Dec-2008', 'Sep-2008', 'Jun-2008', 'May-2008', 'Nov-2008',\n",
       "       'Mar-2008', 'Apr-2008', 'Feb-2008'], dtype=object)"
      ]
     },
     "execution_count": 22,
     "metadata": {},
     "output_type": "execute_result"
    }
   ],
   "source": [
    "df1['last_pymnt_d'].unique()"
   ]
  },
  {
   "cell_type": "code",
   "execution_count": 23,
   "id": "182a6210",
   "metadata": {
    "execution": {
     "iopub.execute_input": "2024-06-26T17:52:37.833389Z",
     "iopub.status.busy": "2024-06-26T17:52:37.833010Z",
     "iopub.status.idle": "2024-06-26T17:52:37.942643Z",
     "shell.execute_reply": "2024-06-26T17:52:37.941390Z"
    },
    "papermill": {
     "duration": 0.142835,
     "end_time": "2024-06-26T17:52:37.945236",
     "exception": false,
     "start_time": "2024-06-26T17:52:37.802401",
     "status": "completed"
    },
    "tags": []
   },
   "outputs": [
    {
     "name": "stdout",
     "output_type": "stream",
     "text": [
      "year\n",
      "2018    147042\n",
      "2017    138639\n",
      "2016    100522\n",
      "2015     59039\n",
      "2014     27014\n",
      "2019     13780\n",
      "2013     11679\n",
      "2012      5252\n",
      "2011      2288\n",
      "2010       895\n",
      "2009       316\n",
      "2008        74\n",
      "Name: count, dtype: int64\n"
     ]
    }
   ],
   "source": [
    "#Extract\n",
    "df1['year'] = pd.to_datetime(df1['last_pymnt_d'], format='%b-%Y').dt.year\n",
    "\n",
    "counts = df1['year'].value_counts().sort_values(ascending=False)\n",
    "print(counts)"
   ]
  },
  {
   "cell_type": "code",
   "execution_count": 24,
   "id": "70d4a889",
   "metadata": {
    "execution": {
     "iopub.execute_input": "2024-06-26T17:52:38.004901Z",
     "iopub.status.busy": "2024-06-26T17:52:38.004472Z",
     "iopub.status.idle": "2024-06-26T17:52:38.017317Z",
     "shell.execute_reply": "2024-06-26T17:52:38.016315Z"
    },
    "papermill": {
     "duration": 0.045079,
     "end_time": "2024-06-26T17:52:38.019673",
     "exception": false,
     "start_time": "2024-06-26T17:52:37.974594",
     "status": "completed"
    },
    "tags": []
   },
   "outputs": [],
   "source": [
    "#Drop orignal last_pymnt_d columns\n",
    "df1 = df1.drop(columns=['last_pymnt_d'])"
   ]
  },
  {
   "cell_type": "code",
   "execution_count": 25,
   "id": "445d25d0",
   "metadata": {
    "execution": {
     "iopub.execute_input": "2024-06-26T17:52:38.079027Z",
     "iopub.status.busy": "2024-06-26T17:52:38.078268Z",
     "iopub.status.idle": "2024-06-26T17:52:38.093382Z",
     "shell.execute_reply": "2024-06-26T17:52:38.092388Z"
    },
    "papermill": {
     "duration": 0.047265,
     "end_time": "2024-06-26T17:52:38.095841",
     "exception": false,
     "start_time": "2024-06-26T17:52:38.048576",
     "status": "completed"
    },
    "tags": []
   },
   "outputs": [],
   "source": [
    "df1 = df1[df1['year'].between(2016, 2018)]"
   ]
  },
  {
   "cell_type": "markdown",
   "id": "88a579f8",
   "metadata": {
    "papermill": {
     "duration": 0.029752,
     "end_time": "2024-06-26T17:52:38.155704",
     "exception": false,
     "start_time": "2024-06-26T17:52:38.125952",
     "status": "completed"
    },
    "tags": []
   },
   "source": [
    "### Focus on the years between 2016-2018"
   ]
  },
  {
   "cell_type": "code",
   "execution_count": 26,
   "id": "05be5b23",
   "metadata": {
    "execution": {
     "iopub.execute_input": "2024-06-26T17:52:38.217404Z",
     "iopub.status.busy": "2024-06-26T17:52:38.217018Z",
     "iopub.status.idle": "2024-06-26T17:52:38.229082Z",
     "shell.execute_reply": "2024-06-26T17:52:38.227970Z"
    },
    "papermill": {
     "duration": 0.045716,
     "end_time": "2024-06-26T17:52:38.231377",
     "exception": false,
     "start_time": "2024-06-26T17:52:38.185661",
     "status": "completed"
    },
    "tags": []
   },
   "outputs": [
    {
     "data": {
      "text/html": [
       "<div>\n",
       "<style scoped>\n",
       "    .dataframe tbody tr th:only-of-type {\n",
       "        vertical-align: middle;\n",
       "    }\n",
       "\n",
       "    .dataframe tbody tr th {\n",
       "        vertical-align: top;\n",
       "    }\n",
       "\n",
       "    .dataframe thead th {\n",
       "        text-align: right;\n",
       "    }\n",
       "</style>\n",
       "<table border=\"1\" class=\"dataframe\">\n",
       "  <thead>\n",
       "    <tr style=\"text-align: right;\">\n",
       "      <th></th>\n",
       "      <th>last_pymnt_amnt</th>\n",
       "      <th>total_rec_prncp</th>\n",
       "      <th>loan_status</th>\n",
       "      <th>year</th>\n",
       "    </tr>\n",
       "  </thead>\n",
       "  <tbody>\n",
       "    <tr>\n",
       "      <th>55148</th>\n",
       "      <td>306.97</td>\n",
       "      <td>79.72</td>\n",
       "      <td>1</td>\n",
       "      <td>2018</td>\n",
       "    </tr>\n",
       "    <tr>\n",
       "      <th>60604</th>\n",
       "      <td>170.92</td>\n",
       "      <td>103.28</td>\n",
       "      <td>1</td>\n",
       "      <td>2018</td>\n",
       "    </tr>\n",
       "    <tr>\n",
       "      <th>62536</th>\n",
       "      <td>1204.23</td>\n",
       "      <td>782.19</td>\n",
       "      <td>1</td>\n",
       "      <td>2018</td>\n",
       "    </tr>\n",
       "    <tr>\n",
       "      <th>67928</th>\n",
       "      <td>490.59</td>\n",
       "      <td>356.19</td>\n",
       "      <td>1</td>\n",
       "      <td>2018</td>\n",
       "    </tr>\n",
       "    <tr>\n",
       "      <th>68761</th>\n",
       "      <td>765.77</td>\n",
       "      <td>631.19</td>\n",
       "      <td>1</td>\n",
       "      <td>2018</td>\n",
       "    </tr>\n",
       "  </tbody>\n",
       "</table>\n",
       "</div>"
      ],
      "text/plain": [
       "       last_pymnt_amnt  total_rec_prncp  loan_status  year\n",
       "55148           306.97            79.72            1  2018\n",
       "60604           170.92           103.28            1  2018\n",
       "62536          1204.23           782.19            1  2018\n",
       "67928           490.59           356.19            1  2018\n",
       "68761           765.77           631.19            1  2018"
      ]
     },
     "execution_count": 26,
     "metadata": {},
     "output_type": "execute_result"
    }
   ],
   "source": [
    "df1.head(5)"
   ]
  },
  {
   "cell_type": "code",
   "execution_count": 27,
   "id": "5821be49",
   "metadata": {
    "execution": {
     "iopub.execute_input": "2024-06-26T17:52:38.293779Z",
     "iopub.status.busy": "2024-06-26T17:52:38.292827Z",
     "iopub.status.idle": "2024-06-26T17:52:38.308652Z",
     "shell.execute_reply": "2024-06-26T17:52:38.307576Z"
    },
    "papermill": {
     "duration": 0.049064,
     "end_time": "2024-06-26T17:52:38.310895",
     "exception": false,
     "start_time": "2024-06-26T17:52:38.261831",
     "status": "completed"
    },
    "tags": []
   },
   "outputs": [
    {
     "name": "stdout",
     "output_type": "stream",
     "text": [
      "<class 'pandas.core.frame.DataFrame'>\n",
      "Index: 386203 entries, 55148 to 1446710\n",
      "Data columns (total 4 columns):\n",
      " #   Column           Non-Null Count   Dtype  \n",
      "---  ------           --------------   -----  \n",
      " 0   last_pymnt_amnt  386203 non-null  float64\n",
      " 1   total_rec_prncp  386203 non-null  float64\n",
      " 2   loan_status      386203 non-null  int64  \n",
      " 3   year             386203 non-null  int32  \n",
      "dtypes: float64(2), int32(1), int64(1)\n",
      "memory usage: 13.3 MB\n"
     ]
    }
   ],
   "source": [
    "df1.info()"
   ]
  },
  {
   "cell_type": "markdown",
   "id": "3c755b09",
   "metadata": {
    "papermill": {
     "duration": 0.030272,
     "end_time": "2024-06-26T17:52:38.371051",
     "exception": false,
     "start_time": "2024-06-26T17:52:38.340779",
     "status": "completed"
    },
    "tags": []
   },
   "source": [
    "### df_loan dataset is ready for merging"
   ]
  },
  {
   "cell_type": "markdown",
   "id": "68d2fde1",
   "metadata": {
    "papermill": {
     "duration": 0.029015,
     "end_time": "2024-06-26T17:52:38.429323",
     "exception": false,
     "start_time": "2024-06-26T17:52:38.400308",
     "status": "completed"
    },
    "tags": []
   },
   "source": [
    "# Load Disaster Dataset"
   ]
  },
  {
   "cell_type": "code",
   "execution_count": 28,
   "id": "c955ea44",
   "metadata": {
    "execution": {
     "iopub.execute_input": "2024-06-26T17:52:38.490061Z",
     "iopub.status.busy": "2024-06-26T17:52:38.489679Z",
     "iopub.status.idle": "2024-06-26T17:52:39.049715Z",
     "shell.execute_reply": "2024-06-26T17:52:39.048890Z"
    },
    "papermill": {
     "duration": 0.592999,
     "end_time": "2024-06-26T17:52:39.052295",
     "exception": false,
     "start_time": "2024-06-26T17:52:38.459296",
     "status": "completed"
    },
    "tags": []
   },
   "outputs": [],
   "source": [
    "#Loading disaster dataset\n",
    "df_dis = pd.read_csv('/kaggle/input/us-natural-disaster-declarations/us_disaster_declarations.csv')"
   ]
  },
  {
   "cell_type": "code",
   "execution_count": 29,
   "id": "bf078be9",
   "metadata": {
    "execution": {
     "iopub.execute_input": "2024-06-26T17:52:39.110204Z",
     "iopub.status.busy": "2024-06-26T17:52:39.109832Z",
     "iopub.status.idle": "2024-06-26T17:52:39.133685Z",
     "shell.execute_reply": "2024-06-26T17:52:39.132793Z"
    },
    "papermill": {
     "duration": 0.055206,
     "end_time": "2024-06-26T17:52:39.135765",
     "exception": false,
     "start_time": "2024-06-26T17:52:39.080559",
     "status": "completed"
    },
    "tags": []
   },
   "outputs": [
    {
     "data": {
      "text/html": [
       "<div>\n",
       "<style scoped>\n",
       "    .dataframe tbody tr th:only-of-type {\n",
       "        vertical-align: middle;\n",
       "    }\n",
       "\n",
       "    .dataframe tbody tr th {\n",
       "        vertical-align: top;\n",
       "    }\n",
       "\n",
       "    .dataframe thead th {\n",
       "        text-align: right;\n",
       "    }\n",
       "</style>\n",
       "<table border=\"1\" class=\"dataframe\">\n",
       "  <thead>\n",
       "    <tr style=\"text-align: right;\">\n",
       "      <th></th>\n",
       "      <th>fema_declaration_string</th>\n",
       "      <th>disaster_number</th>\n",
       "      <th>state</th>\n",
       "      <th>declaration_type</th>\n",
       "      <th>declaration_date</th>\n",
       "      <th>fy_declared</th>\n",
       "      <th>incident_type</th>\n",
       "      <th>declaration_title</th>\n",
       "      <th>ih_program_declared</th>\n",
       "      <th>ia_program_declared</th>\n",
       "      <th>...</th>\n",
       "      <th>incident_end_date</th>\n",
       "      <th>disaster_closeout_date</th>\n",
       "      <th>fips</th>\n",
       "      <th>place_code</th>\n",
       "      <th>designated_area</th>\n",
       "      <th>declaration_request_number</th>\n",
       "      <th>last_ia_filing_date</th>\n",
       "      <th>last_refresh</th>\n",
       "      <th>hash</th>\n",
       "      <th>id</th>\n",
       "    </tr>\n",
       "  </thead>\n",
       "  <tbody>\n",
       "    <tr>\n",
       "      <th>0</th>\n",
       "      <td>DR-1-GA</td>\n",
       "      <td>1</td>\n",
       "      <td>GA</td>\n",
       "      <td>DR</td>\n",
       "      <td>1953-05-02T00:00:00Z</td>\n",
       "      <td>1953</td>\n",
       "      <td>Tornado</td>\n",
       "      <td>Tornado</td>\n",
       "      <td>0</td>\n",
       "      <td>1</td>\n",
       "      <td>...</td>\n",
       "      <td>1953-05-02T00:00:00Z</td>\n",
       "      <td>1954-06-01T00:00:00Z</td>\n",
       "      <td>13000</td>\n",
       "      <td>0</td>\n",
       "      <td>Statewide</td>\n",
       "      <td>53013</td>\n",
       "      <td>NaN</td>\n",
       "      <td>2023-03-18T13:22:03Z</td>\n",
       "      <td>48af1afcc4535aa910ddb5b85eebe047dc703a6b</td>\n",
       "      <td>da5c8f17-c28f-4c41-8e06-fa8efc85aa4a</td>\n",
       "    </tr>\n",
       "    <tr>\n",
       "      <th>1</th>\n",
       "      <td>DR-2-TX</td>\n",
       "      <td>2</td>\n",
       "      <td>TX</td>\n",
       "      <td>DR</td>\n",
       "      <td>1953-05-15T00:00:00Z</td>\n",
       "      <td>1953</td>\n",
       "      <td>Tornado</td>\n",
       "      <td>Tornado &amp; Heavy Rainfall</td>\n",
       "      <td>0</td>\n",
       "      <td>1</td>\n",
       "      <td>...</td>\n",
       "      <td>1953-05-15T00:00:00Z</td>\n",
       "      <td>1958-01-01T00:00:00Z</td>\n",
       "      <td>48000</td>\n",
       "      <td>0</td>\n",
       "      <td>Statewide</td>\n",
       "      <td>53003</td>\n",
       "      <td>NaN</td>\n",
       "      <td>2023-03-18T13:22:03Z</td>\n",
       "      <td>6bbba411d294ec521683e36313c8da2992e8a857</td>\n",
       "      <td>b0b41f55-0d77-43ac-898c-3cc4a18231e6</td>\n",
       "    </tr>\n",
       "    <tr>\n",
       "      <th>2</th>\n",
       "      <td>DR-3-LA</td>\n",
       "      <td>3</td>\n",
       "      <td>LA</td>\n",
       "      <td>DR</td>\n",
       "      <td>1953-05-29T00:00:00Z</td>\n",
       "      <td>1953</td>\n",
       "      <td>Flood</td>\n",
       "      <td>Flood</td>\n",
       "      <td>0</td>\n",
       "      <td>1</td>\n",
       "      <td>...</td>\n",
       "      <td>1953-05-29T00:00:00Z</td>\n",
       "      <td>1960-02-01T00:00:00Z</td>\n",
       "      <td>22000</td>\n",
       "      <td>0</td>\n",
       "      <td>Statewide</td>\n",
       "      <td>53005</td>\n",
       "      <td>NaN</td>\n",
       "      <td>2023-03-18T13:22:03Z</td>\n",
       "      <td>5b2fa18b404bdcf0d3038cd17f1aa995d5412f48</td>\n",
       "      <td>9fd9401d-c76c-43c3-b42a-6a4ae5139ec0</td>\n",
       "    </tr>\n",
       "    <tr>\n",
       "      <th>3</th>\n",
       "      <td>DR-4-MI</td>\n",
       "      <td>4</td>\n",
       "      <td>MI</td>\n",
       "      <td>DR</td>\n",
       "      <td>1953-06-02T00:00:00Z</td>\n",
       "      <td>1953</td>\n",
       "      <td>Tornado</td>\n",
       "      <td>Tornado</td>\n",
       "      <td>0</td>\n",
       "      <td>1</td>\n",
       "      <td>...</td>\n",
       "      <td>1953-06-02T00:00:00Z</td>\n",
       "      <td>1956-02-01T00:00:00Z</td>\n",
       "      <td>26000</td>\n",
       "      <td>0</td>\n",
       "      <td>Statewide</td>\n",
       "      <td>53004</td>\n",
       "      <td>NaN</td>\n",
       "      <td>2023-03-18T13:22:03Z</td>\n",
       "      <td>403164346eb22263810402e8b67f1712f1574ad5</td>\n",
       "      <td>67324f38-1f00-4bbc-aeda-5194d1befad6</td>\n",
       "    </tr>\n",
       "    <tr>\n",
       "      <th>4</th>\n",
       "      <td>DR-5-MT</td>\n",
       "      <td>5</td>\n",
       "      <td>MT</td>\n",
       "      <td>DR</td>\n",
       "      <td>1953-06-06T00:00:00Z</td>\n",
       "      <td>1953</td>\n",
       "      <td>Flood</td>\n",
       "      <td>Floods</td>\n",
       "      <td>0</td>\n",
       "      <td>1</td>\n",
       "      <td>...</td>\n",
       "      <td>1953-06-06T00:00:00Z</td>\n",
       "      <td>1955-12-01T00:00:00Z</td>\n",
       "      <td>30000</td>\n",
       "      <td>0</td>\n",
       "      <td>Statewide</td>\n",
       "      <td>53006</td>\n",
       "      <td>NaN</td>\n",
       "      <td>2023-03-18T13:22:03Z</td>\n",
       "      <td>8c775d2ce843a8eba2417f9716ba5c75fe0e53f3</td>\n",
       "      <td>e3853916-c7a2-4557-ad8e-60a42d369a61</td>\n",
       "    </tr>\n",
       "  </tbody>\n",
       "</table>\n",
       "<p>5 rows × 23 columns</p>\n",
       "</div>"
      ],
      "text/plain": [
       "  fema_declaration_string  disaster_number state declaration_type  \\\n",
       "0                 DR-1-GA                1    GA               DR   \n",
       "1                 DR-2-TX                2    TX               DR   \n",
       "2                 DR-3-LA                3    LA               DR   \n",
       "3                 DR-4-MI                4    MI               DR   \n",
       "4                 DR-5-MT                5    MT               DR   \n",
       "\n",
       "       declaration_date  fy_declared incident_type         declaration_title  \\\n",
       "0  1953-05-02T00:00:00Z         1953       Tornado                   Tornado   \n",
       "1  1953-05-15T00:00:00Z         1953       Tornado  Tornado & Heavy Rainfall   \n",
       "2  1953-05-29T00:00:00Z         1953         Flood                     Flood   \n",
       "3  1953-06-02T00:00:00Z         1953       Tornado                   Tornado   \n",
       "4  1953-06-06T00:00:00Z         1953         Flood                    Floods   \n",
       "\n",
       "   ih_program_declared  ia_program_declared  ...     incident_end_date  \\\n",
       "0                    0                    1  ...  1953-05-02T00:00:00Z   \n",
       "1                    0                    1  ...  1953-05-15T00:00:00Z   \n",
       "2                    0                    1  ...  1953-05-29T00:00:00Z   \n",
       "3                    0                    1  ...  1953-06-02T00:00:00Z   \n",
       "4                    0                    1  ...  1953-06-06T00:00:00Z   \n",
       "\n",
       "   disaster_closeout_date   fips place_code designated_area  \\\n",
       "0    1954-06-01T00:00:00Z  13000          0       Statewide   \n",
       "1    1958-01-01T00:00:00Z  48000          0       Statewide   \n",
       "2    1960-02-01T00:00:00Z  22000          0       Statewide   \n",
       "3    1956-02-01T00:00:00Z  26000          0       Statewide   \n",
       "4    1955-12-01T00:00:00Z  30000          0       Statewide   \n",
       "\n",
       "   declaration_request_number  last_ia_filing_date          last_refresh  \\\n",
       "0                       53013                  NaN  2023-03-18T13:22:03Z   \n",
       "1                       53003                  NaN  2023-03-18T13:22:03Z   \n",
       "2                       53005                  NaN  2023-03-18T13:22:03Z   \n",
       "3                       53004                  NaN  2023-03-18T13:22:03Z   \n",
       "4                       53006                  NaN  2023-03-18T13:22:03Z   \n",
       "\n",
       "                                       hash  \\\n",
       "0  48af1afcc4535aa910ddb5b85eebe047dc703a6b   \n",
       "1  6bbba411d294ec521683e36313c8da2992e8a857   \n",
       "2  5b2fa18b404bdcf0d3038cd17f1aa995d5412f48   \n",
       "3  403164346eb22263810402e8b67f1712f1574ad5   \n",
       "4  8c775d2ce843a8eba2417f9716ba5c75fe0e53f3   \n",
       "\n",
       "                                     id  \n",
       "0  da5c8f17-c28f-4c41-8e06-fa8efc85aa4a  \n",
       "1  b0b41f55-0d77-43ac-898c-3cc4a18231e6  \n",
       "2  9fd9401d-c76c-43c3-b42a-6a4ae5139ec0  \n",
       "3  67324f38-1f00-4bbc-aeda-5194d1befad6  \n",
       "4  e3853916-c7a2-4557-ad8e-60a42d369a61  \n",
       "\n",
       "[5 rows x 23 columns]"
      ]
     },
     "execution_count": 29,
     "metadata": {},
     "output_type": "execute_result"
    }
   ],
   "source": [
    "df_dis.head(5)"
   ]
  },
  {
   "cell_type": "code",
   "execution_count": 30,
   "id": "f68135c7",
   "metadata": {
    "execution": {
     "iopub.execute_input": "2024-06-26T17:52:39.196764Z",
     "iopub.status.busy": "2024-06-26T17:52:39.196373Z",
     "iopub.status.idle": "2024-06-26T17:52:39.202798Z",
     "shell.execute_reply": "2024-06-26T17:52:39.201841Z"
    },
    "papermill": {
     "duration": 0.039792,
     "end_time": "2024-06-26T17:52:39.204821",
     "exception": false,
     "start_time": "2024-06-26T17:52:39.165029",
     "status": "completed"
    },
    "tags": []
   },
   "outputs": [
    {
     "data": {
      "text/plain": [
       "(64092, 23)"
      ]
     },
     "execution_count": 30,
     "metadata": {},
     "output_type": "execute_result"
    }
   ],
   "source": [
    "df_dis.shape"
   ]
  },
  {
   "cell_type": "code",
   "execution_count": 31,
   "id": "d3f53241",
   "metadata": {
    "execution": {
     "iopub.execute_input": "2024-06-26T17:52:39.265917Z",
     "iopub.status.busy": "2024-06-26T17:52:39.265500Z",
     "iopub.status.idle": "2024-06-26T17:52:39.467263Z",
     "shell.execute_reply": "2024-06-26T17:52:39.466293Z"
    },
    "papermill": {
     "duration": 0.235573,
     "end_time": "2024-06-26T17:52:39.469743",
     "exception": false,
     "start_time": "2024-06-26T17:52:39.234170",
     "status": "completed"
    },
    "tags": []
   },
   "outputs": [
    {
     "data": {
      "image/png": "[encoded data removed]",
      "text/plain": [
       "<Figure size 1800x800 with 1 Axes>"
      ]
     },
     "metadata": {},
     "output_type": "display_data"
    }
   ],
   "source": [
    "#Numbers of each data type\n",
    "data_types_count = df_dis.dtypes.value_counts()\n",
    "\n",
    "#Define color palette as a dictionary\n",
    "color_palette = {'float64': 'steelblue', 'int64': 'darkorange', \n",
    "                 'object': 'seagreen'}\n",
    "\n",
    "#Get colors for each data type\n",
    "colors = [color_palette[dt] for dt in data_types_count.index.astype(str)]\n",
    "\n",
    "plt.figure(figsize=(18,8))\n",
    "bars = plt.bar(data_types_count.index.astype(str), data_types_count.values, color=colors)\n",
    "plt.ylabel('Number of columns', fontsize=15)\n",
    "plt.xlabel('Data type', fontsize=15)\n",
    "\n",
    "plt.show()"
   ]
  },
  {
   "cell_type": "code",
   "execution_count": 32,
   "id": "e78cf62e",
   "metadata": {
    "execution": {
     "iopub.execute_input": "2024-06-26T17:52:39.533407Z",
     "iopub.status.busy": "2024-06-26T17:52:39.532934Z",
     "iopub.status.idle": "2024-06-26T17:52:39.541119Z",
     "shell.execute_reply": "2024-06-26T17:52:39.540074Z"
    },
    "papermill": {
     "duration": 0.044178,
     "end_time": "2024-06-26T17:52:39.543347",
     "exception": false,
     "start_time": "2024-06-26T17:52:39.499169",
     "status": "completed"
    },
    "tags": []
   },
   "outputs": [
    {
     "data": {
      "text/plain": [
       "object    14\n",
       "int64      9\n",
       "Name: count, dtype: int64"
      ]
     },
     "execution_count": 32,
     "metadata": {},
     "output_type": "execute_result"
    }
   ],
   "source": [
    "#Print data type counts\n",
    "data_types_count"
   ]
  },
  {
   "cell_type": "code",
   "execution_count": 33,
   "id": "c1c64a48",
   "metadata": {
    "execution": {
     "iopub.execute_input": "2024-06-26T17:52:39.619444Z",
     "iopub.status.busy": "2024-06-26T17:52:39.618670Z",
     "iopub.status.idle": "2024-06-26T17:52:39.718048Z",
     "shell.execute_reply": "2024-06-26T17:52:39.716515Z"
    },
    "papermill": {
     "duration": 0.137925,
     "end_time": "2024-06-26T17:52:39.720315",
     "exception": false,
     "start_time": "2024-06-26T17:52:39.582390",
     "status": "completed"
    },
    "tags": []
   },
   "outputs": [
    {
     "name": "stdout",
     "output_type": "stream",
     "text": [
      "<class 'pandas.core.frame.DataFrame'>\n",
      "RangeIndex: 64092 entries, 0 to 64091\n",
      "Data columns (total 23 columns):\n",
      " #   Column                      Non-Null Count  Dtype \n",
      "---  ------                      --------------  ----- \n",
      " 0   fema_declaration_string     64092 non-null  object\n",
      " 1   disaster_number             64092 non-null  int64 \n",
      " 2   state                       64092 non-null  object\n",
      " 3   declaration_type            64092 non-null  object\n",
      " 4   declaration_date            64092 non-null  object\n",
      " 5   fy_declared                 64092 non-null  int64 \n",
      " 6   incident_type               64092 non-null  object\n",
      " 7   declaration_title           64092 non-null  object\n",
      " 8   ih_program_declared         64092 non-null  int64 \n",
      " 9   ia_program_declared         64092 non-null  int64 \n",
      " 10  pa_program_declared         64092 non-null  int64 \n",
      " 11  hm_program_declared         64092 non-null  int64 \n",
      " 12  incident_begin_date         64092 non-null  object\n",
      " 13  incident_end_date           55682 non-null  object\n",
      " 14  disaster_closeout_date      48912 non-null  object\n",
      " 15  fips                        64092 non-null  int64 \n",
      " 16  place_code                  64092 non-null  int64 \n",
      " 17  designated_area             64092 non-null  object\n",
      " 18  declaration_request_number  64092 non-null  int64 \n",
      " 19  last_ia_filing_date         17753 non-null  object\n",
      " 20  last_refresh                64092 non-null  object\n",
      " 21  hash                        64092 non-null  object\n",
      " 22  id                          64092 non-null  object\n",
      "dtypes: int64(9), object(14)\n",
      "memory usage: 11.2+ MB\n"
     ]
    }
   ],
   "source": [
    "df_dis.info()"
   ]
  },
  {
   "cell_type": "code",
   "execution_count": 34,
   "id": "21884981",
   "metadata": {
    "execution": {
     "iopub.execute_input": "2024-06-26T17:52:39.783409Z",
     "iopub.status.busy": "2024-06-26T17:52:39.783041Z",
     "iopub.status.idle": "2024-06-26T17:52:39.789964Z",
     "shell.execute_reply": "2024-06-26T17:52:39.788953Z"
    },
    "papermill": {
     "duration": 0.041147,
     "end_time": "2024-06-26T17:52:39.792180",
     "exception": false,
     "start_time": "2024-06-26T17:52:39.751033",
     "status": "completed"
    },
    "tags": []
   },
   "outputs": [
    {
     "data": {
      "text/plain": [
       "['fema_declaration_string',\n",
       " 'disaster_number',\n",
       " 'state',\n",
       " 'declaration_type',\n",
       " 'declaration_date',\n",
       " 'fy_declared',\n",
       " 'incident_type',\n",
       " 'declaration_title',\n",
       " 'ih_program_declared',\n",
       " 'ia_program_declared',\n",
       " 'pa_program_declared',\n",
       " 'hm_program_declared',\n",
       " 'incident_begin_date',\n",
       " 'incident_end_date',\n",
       " 'disaster_closeout_date',\n",
       " 'fips',\n",
       " 'place_code',\n",
       " 'designated_area',\n",
       " 'declaration_request_number',\n",
       " 'last_ia_filing_date',\n",
       " 'last_refresh',\n",
       " 'hash',\n",
       " 'id']"
      ]
     },
     "execution_count": 34,
     "metadata": {},
     "output_type": "execute_result"
    }
   ],
   "source": [
    "df_dis.columns.tolist()"
   ]
  },
  {
   "cell_type": "markdown",
   "id": "83b9da3b",
   "metadata": {
    "papermill": {
     "duration": 0.031177,
     "end_time": "2024-06-26T17:52:39.854270",
     "exception": false,
     "start_time": "2024-06-26T17:52:39.823093",
     "status": "completed"
    },
    "tags": []
   },
   "source": [
    "## EDA: ND"
   ]
  },
  {
   "cell_type": "markdown",
   "id": "e9fdb237",
   "metadata": {
    "papermill": {
     "duration": 0.032855,
     "end_time": "2024-06-26T17:52:39.919140",
     "exception": false,
     "start_time": "2024-06-26T17:52:39.886285",
     "status": "completed"
    },
    "tags": []
   },
   "source": [
    "### Examine Variable 'state'"
   ]
  },
  {
   "cell_type": "code",
   "execution_count": 35,
   "id": "241f42b7",
   "metadata": {
    "execution": {
     "iopub.execute_input": "2024-06-26T17:52:39.982827Z",
     "iopub.status.busy": "2024-06-26T17:52:39.982431Z",
     "iopub.status.idle": "2024-06-26T17:52:39.989568Z",
     "shell.execute_reply": "2024-06-26T17:52:39.988586Z"
    },
    "papermill": {
     "duration": 0.04069,
     "end_time": "2024-06-26T17:52:39.991754",
     "exception": false,
     "start_time": "2024-06-26T17:52:39.951064",
     "status": "completed"
    },
    "tags": []
   },
   "outputs": [],
   "source": [
    "#Select features\n",
    "features = ['incident_type', 'incident_begin_date', 'state']\n",
    "\n",
    "df_dis = df_dis[features]"
   ]
  },
  {
   "cell_type": "code",
   "execution_count": 36,
   "id": "9b5dff19",
   "metadata": {
    "execution": {
     "iopub.execute_input": "2024-06-26T17:52:40.054704Z",
     "iopub.status.busy": "2024-06-26T17:52:40.054307Z",
     "iopub.status.idle": "2024-06-26T17:52:40.073745Z",
     "shell.execute_reply": "2024-06-26T17:52:40.072779Z"
    },
    "papermill": {
     "duration": 0.054247,
     "end_time": "2024-06-26T17:52:40.076037",
     "exception": false,
     "start_time": "2024-06-26T17:52:40.021790",
     "status": "completed"
    },
    "scrolled": true,
    "tags": []
   },
   "outputs": [
    {
     "data": {
      "text/plain": [
       "state\n",
       "TX    5173\n",
       "MO    2704\n",
       "KY    2583\n",
       "VA    2524\n",
       "LA    2493\n",
       "OK    2474\n",
       "FL    2352\n",
       "GA    2278\n",
       "NC    2096\n",
       "PR    1987\n",
       "MS    1906\n",
       "IA    1848\n",
       "KS    1759\n",
       "AL    1665\n",
       "TN    1605\n",
       "CA    1599\n",
       "AR    1593\n",
       "MN    1563\n",
       "NY    1503\n",
       "NE    1485\n",
       "IN    1451\n",
       "SD    1430\n",
       "ND    1359\n",
       "IL    1283\n",
       "OH    1281\n",
       "PA    1239\n",
       "WV    1232\n",
       "ME    1019\n",
       "WA     979\n",
       "SC     947\n",
       "WI     892\n",
       "MI     796\n",
       "CO     646\n",
       "NJ     625\n",
       "MT     605\n",
       "OR     586\n",
       "NM     514\n",
       "MD     448\n",
       "MA     398\n",
       "ID     361\n",
       "VT     338\n",
       "AZ     335\n",
       "AK     318\n",
       "NH     301\n",
       "NV     274\n",
       "CT     255\n",
       "UT     249\n",
       "WY     128\n",
       "RI     114\n",
       "HI     100\n",
       "VI      80\n",
       "AS      76\n",
       "MP      63\n",
       "DE      53\n",
       "MH      53\n",
       "FM      31\n",
       "DC      23\n",
       "GU      19\n",
       "PW       1\n",
       "Name: count, dtype: int64"
      ]
     },
     "execution_count": 36,
     "metadata": {},
     "output_type": "execute_result"
    }
   ],
   "source": [
    "#check number of values in each state\n",
    "counts = df_dis['state'].value_counts(ascending=False)\n",
    "\n",
    "counts"
   ]
  },
  {
   "cell_type": "code",
   "execution_count": 37,
   "id": "7194f556",
   "metadata": {
    "execution": {
     "iopub.execute_input": "2024-06-26T17:52:40.140860Z",
     "iopub.status.busy": "2024-06-26T17:52:40.140416Z",
     "iopub.status.idle": "2024-06-26T17:52:40.799394Z",
     "shell.execute_reply": "2024-06-26T17:52:40.798278Z"
    },
    "papermill": {
     "duration": 0.693678,
     "end_time": "2024-06-26T17:52:40.801696",
     "exception": false,
     "start_time": "2024-06-26T17:52:40.108018",
     "status": "completed"
    },
    "tags": []
   },
   "outputs": [
    {
     "data": {
      "image/png": "[encoded data removed]",
      "text/plain": [
       "<Figure size 1200x600 with 1 Axes>"
      ]
     },
     "metadata": {},
     "output_type": "display_data"
    }
   ],
   "source": [
    "# Extract the counts for each state\n",
    "counts = df_dis['state'].value_counts(ascending=False)\n",
    "\n",
    "# Create a custom color palette using 'viridis'\n",
    "colors = plt.cm.viridis.colors\n",
    "\n",
    "# Set the size of the plot\n",
    "plt.figure(figsize=(12, 6))\n",
    "\n",
    "# Plot the bar plot with the custom color palette\n",
    "counts.plot(kind='bar', color=colors)\n",
    "\n",
    "# Set title and labels\n",
    "plt.xlabel('State')\n",
    "plt.ylabel('Count')\n",
    "\n",
    "# Rotate x-axis labels for better readability and increase font size\n",
    "plt.xticks(rotation=90, fontsize=8)\n",
    "\n",
    "# Show plot\n",
    "plt.show()"
   ]
  },
  {
   "cell_type": "markdown",
   "id": "58ac0d76",
   "metadata": {
    "papermill": {
     "duration": 0.03091,
     "end_time": "2024-06-26T17:52:40.864194",
     "exception": false,
     "start_time": "2024-06-26T17:52:40.833284",
     "status": "completed"
    },
    "tags": []
   },
   "source": [
    "### Randomly select 6 states with 1,000 or more disaster counts"
   ]
  },
  {
   "cell_type": "code",
   "execution_count": 38,
   "id": "2efda8c5",
   "metadata": {
    "execution": {
     "iopub.execute_input": "2024-06-26T17:52:40.930333Z",
     "iopub.status.busy": "2024-06-26T17:52:40.929914Z",
     "iopub.status.idle": "2024-06-26T17:52:40.937528Z",
     "shell.execute_reply": "2024-06-26T17:52:40.936429Z"
    },
    "papermill": {
     "duration": 0.043075,
     "end_time": "2024-06-26T17:52:40.940104",
     "exception": false,
     "start_time": "2024-06-26T17:52:40.897029",
     "status": "completed"
    },
    "tags": []
   },
   "outputs": [
    {
     "name": "stdout",
     "output_type": "stream",
     "text": [
      "Randomly selected category: ['IN', 'VA', 'TX']\n"
     ]
    }
   ],
   "source": [
    "# set seed for reproducibility\n",
    "random.seed(42)\n",
    "\n",
    "# List of categories\n",
    "categories = ['TX', 'MO', 'KY', 'VA', 'LA', 'OK', 'FL', \n",
    "              'GA', 'NC', 'PR', 'MS', 'IA', 'KS', 'AL', \n",
    "              'TN', 'CA', 'AR', 'MN', 'NY', 'NE', 'IN', \n",
    "              'SD', 'ND', 'IL', 'OH', 'PA', 'WV', 'ME']\n",
    "\n",
    "# Randomly select a category\n",
    "random_categories = random.sample(categories, 3)\n",
    "\n",
    "print(\"Randomly selected category:\", random_categories)"
   ]
  },
  {
   "cell_type": "code",
   "execution_count": 39,
   "id": "a0327acf",
   "metadata": {
    "execution": {
     "iopub.execute_input": "2024-06-26T17:52:41.005140Z",
     "iopub.status.busy": "2024-06-26T17:52:41.004751Z",
     "iopub.status.idle": "2024-06-26T17:52:41.018935Z",
     "shell.execute_reply": "2024-06-26T17:52:41.017797Z"
    },
    "papermill": {
     "duration": 0.050095,
     "end_time": "2024-06-26T17:52:41.021280",
     "exception": false,
     "start_time": "2024-06-26T17:52:40.971185",
     "status": "completed"
    },
    "tags": []
   },
   "outputs": [],
   "source": [
    "# Filter the DataFrame to retain only the desired categories in the 'state' variable\n",
    "desired_categories = ['IN', 'VA', 'TX']\n",
    "df_dis = df_dis[df_dis['state'].isin(desired_categories)]"
   ]
  },
  {
   "cell_type": "code",
   "execution_count": 40,
   "id": "8915db25",
   "metadata": {
    "execution": {
     "iopub.execute_input": "2024-06-26T17:52:41.086650Z",
     "iopub.status.busy": "2024-06-26T17:52:41.086252Z",
     "iopub.status.idle": "2024-06-26T17:52:41.096227Z",
     "shell.execute_reply": "2024-06-26T17:52:41.095295Z"
    },
    "papermill": {
     "duration": 0.04517,
     "end_time": "2024-06-26T17:52:41.098628",
     "exception": false,
     "start_time": "2024-06-26T17:52:41.053458",
     "status": "completed"
    },
    "tags": []
   },
   "outputs": [
    {
     "data": {
      "text/plain": [
       "state\n",
       "TX    5173\n",
       "VA    2524\n",
       "IN    1451\n",
       "Name: count, dtype: int64"
      ]
     },
     "execution_count": 40,
     "metadata": {},
     "output_type": "execute_result"
    }
   ],
   "source": [
    "#check number of values in each type\n",
    "counts = df_dis['state'].value_counts(ascending=False)\n",
    "\n",
    "counts"
   ]
  },
  {
   "cell_type": "code",
   "execution_count": 41,
   "id": "dde8790e",
   "metadata": {
    "execution": {
     "iopub.execute_input": "2024-06-26T17:52:41.164914Z",
     "iopub.status.busy": "2024-06-26T17:52:41.164465Z",
     "iopub.status.idle": "2024-06-26T17:52:41.337079Z",
     "shell.execute_reply": "2024-06-26T17:52:41.336053Z"
    },
    "papermill": {
     "duration": 0.208561,
     "end_time": "2024-06-26T17:52:41.339564",
     "exception": false,
     "start_time": "2024-06-26T17:52:41.131003",
     "status": "completed"
    },
    "tags": []
   },
   "outputs": [
    {
     "data": {
      "image/png": "[encoded data removed]",
      "text/plain": [
       "<Figure size 1200x600 with 1 Axes>"
      ]
     },
     "metadata": {},
     "output_type": "display_data"
    }
   ],
   "source": [
    "# Extract the counts for each state\n",
    "counts = df_dis['state'].value_counts(ascending=False)\n",
    "\n",
    "# Create a custom color palette using 'viridis'\n",
    "colors = plt.cm.viridis.colors\n",
    "\n",
    "# Set the size of the plot\n",
    "plt.figure(figsize=(12, 6))\n",
    "\n",
    "# Plot the bar plot with the custom color palette\n",
    "counts.plot(kind='bar', color=colors)\n",
    "\n",
    "# Set title and labels\n",
    "plt.xlabel('State')\n",
    "plt.ylabel('Count')\n",
    "\n",
    "# Rotate x-axis labels for better readability and increase font size\n",
    "plt.xticks(rotation=90, fontsize=8)\n",
    "\n",
    "# Show plot\n",
    "plt.show()"
   ]
  },
  {
   "cell_type": "markdown",
   "id": "952668a6",
   "metadata": {
    "papermill": {
     "duration": 0.030397,
     "end_time": "2024-06-26T17:52:41.402605",
     "exception": false,
     "start_time": "2024-06-26T17:52:41.372208",
     "status": "completed"
    },
    "tags": []
   },
   "source": [
    "### Examine Variable 'incident_type'"
   ]
  },
  {
   "cell_type": "code",
   "execution_count": 42,
   "id": "dc256ab4",
   "metadata": {
    "execution": {
     "iopub.execute_input": "2024-06-26T17:52:41.467937Z",
     "iopub.status.busy": "2024-06-26T17:52:41.467219Z",
     "iopub.status.idle": "2024-06-26T17:52:41.477374Z",
     "shell.execute_reply": "2024-06-26T17:52:41.476429Z"
    },
    "papermill": {
     "duration": 0.045172,
     "end_time": "2024-06-26T17:52:41.480020",
     "exception": false,
     "start_time": "2024-06-26T17:52:41.434848",
     "status": "completed"
    },
    "scrolled": true,
    "tags": []
   },
   "outputs": [
    {
     "data": {
      "text/plain": [
       "incident_type\n",
       "Hurricane           2272\n",
       "Severe Storm        1849\n",
       "Fire                1236\n",
       "Flood                992\n",
       "Biological           976\n",
       "Snowstorm            688\n",
       "Severe Ice Storm     613\n",
       "Drought              249\n",
       "Tornado              109\n",
       "Other                 56\n",
       "Freezing              55\n",
       "Coastal Storm         42\n",
       "Earthquake            10\n",
       "Terrorist              1\n",
       "Name: count, dtype: int64"
      ]
     },
     "execution_count": 42,
     "metadata": {},
     "output_type": "execute_result"
    }
   ],
   "source": [
    "#check number of values in each type\n",
    "counts = df_dis['incident_type'].value_counts(ascending=False)\n",
    "\n",
    "counts"
   ]
  },
  {
   "cell_type": "code",
   "execution_count": 43,
   "id": "f074906e",
   "metadata": {
    "execution": {
     "iopub.execute_input": "2024-06-26T17:52:41.545866Z",
     "iopub.status.busy": "2024-06-26T17:52:41.545448Z",
     "iopub.status.idle": "2024-06-26T17:52:41.802842Z",
     "shell.execute_reply": "2024-06-26T17:52:41.801855Z"
    },
    "papermill": {
     "duration": 0.292774,
     "end_time": "2024-06-26T17:52:41.805231",
     "exception": false,
     "start_time": "2024-06-26T17:52:41.512457",
     "status": "completed"
    },
    "tags": []
   },
   "outputs": [
    {
     "data": {
      "image/png": "[encoded data removed]",
      "text/plain": [
       "<Figure size 640x480 with 1 Axes>"
      ]
     },
     "metadata": {},
     "output_type": "display_data"
    }
   ],
   "source": [
    "#counts for each category\n",
    "counts = df_dis['incident_type'].value_counts()\n",
    "\n",
    "counts.plot(kind='bar', color= 'steelblue')\n",
    "plt.title('Incident Type Frequency')\n",
    "plt.xticks(rotation=45, ha='right')\n",
    "plt.xlabel('Incident Type')\n",
    "plt.ylabel('Count')\n",
    "plt.show()"
   ]
  },
  {
   "cell_type": "markdown",
   "id": "3e64f70a",
   "metadata": {
    "papermill": {
     "duration": 0.031485,
     "end_time": "2024-06-26T17:52:41.869321",
     "exception": false,
     "start_time": "2024-06-26T17:52:41.837836",
     "status": "completed"
    },
    "tags": []
   },
   "source": [
    "### Examine Variable 'incident_begin_date'"
   ]
  },
  {
   "cell_type": "code",
   "execution_count": 44,
   "id": "0ac2d9d7",
   "metadata": {
    "execution": {
     "iopub.execute_input": "2024-06-26T17:52:41.938377Z",
     "iopub.status.busy": "2024-06-26T17:52:41.937201Z",
     "iopub.status.idle": "2024-06-26T17:52:41.948942Z",
     "shell.execute_reply": "2024-06-26T17:52:41.947814Z"
    },
    "papermill": {
     "duration": 0.047563,
     "end_time": "2024-06-26T17:52:41.951269",
     "exception": false,
     "start_time": "2024-06-26T17:52:41.903706",
     "status": "completed"
    },
    "tags": []
   },
   "outputs": [
    {
     "data": {
      "text/plain": [
       "array(['1953-05-15T00:00:00Z', '1953-06-19T00:00:00Z',\n",
       "       '1954-07-01T00:00:00Z', '1954-10-26T00:00:00Z',\n",
       "       '1957-02-01T00:00:00Z', '1957-04-29T00:00:00Z',\n",
       "       '1958-06-06T00:00:00Z', '1959-01-29T00:00:00Z',\n",
       "       '1959-07-08T00:00:00Z', '1960-07-15T00:00:00Z',\n",
       "       '1961-05-20T00:00:00Z', '1961-09-16T00:00:00Z',\n",
       "       '1962-03-09T00:00:00Z', '1963-03-21T00:00:00Z',\n",
       "       '1963-09-24T00:00:00Z', '1964-03-17T00:00:00Z',\n",
       "       '1965-04-14T00:00:00Z', '1965-06-19T00:00:00Z',\n",
       "       '1966-05-12T00:00:00Z', '1966-09-27T00:00:00Z',\n",
       "       '1967-09-28T00:00:00Z', '1968-06-10T00:00:00Z',\n",
       "       '1968-07-05T00:00:00Z', '1968-07-30T00:00:00Z',\n",
       "       '1969-08-23T00:00:00Z', '1970-05-13T00:00:00Z',\n",
       "       '1970-08-04T00:00:00Z', '1971-09-18T00:00:00Z',\n",
       "       '1972-01-27T00:00:00Z', '1972-05-20T00:00:00Z',\n",
       "       '1972-06-23T00:00:00Z', '1972-10-07T00:00:00Z',\n",
       "       '1972-10-10T00:00:00Z', '1973-03-12T00:00:00Z',\n",
       "       '1973-06-25T00:00:00Z', '1973-07-11T00:00:00Z',\n",
       "       '1974-04-04T00:00:00Z', '1974-11-30T00:00:00Z',\n",
       "       '1975-02-15T00:00:00Z', '1975-04-01T00:00:00Z',\n",
       "       '1976-06-19T00:00:00Z', '1976-10-15T00:00:00Z',\n",
       "       '1977-01-26T00:00:00Z', '1977-02-02T00:00:00Z',\n",
       "       '1977-04-07T00:00:00Z', '1977-07-23T00:00:00Z',\n",
       "       '1977-11-12T00:00:00Z', '1978-01-27T00:00:00Z',\n",
       "       '1978-03-29T00:00:00Z', '1978-08-03T00:00:00Z',\n",
       "       '1979-04-11T00:00:00Z', '1979-04-26T00:00:00Z',\n",
       "       '1979-06-14T00:00:00Z', '1979-07-20T00:00:00Z',\n",
       "       '1979-07-28T00:00:00Z', '1979-07-31T00:00:00Z',\n",
       "       '1979-09-25T00:00:00Z', '1979-09-29T00:00:00Z',\n",
       "       '1980-08-11T00:00:00Z', '1980-09-26T00:00:00Z',\n",
       "       '1981-09-21T00:00:00Z', '1981-10-23T00:00:00Z',\n",
       "       '1982-03-20T00:00:00Z', '1982-04-08T00:00:00Z',\n",
       "       '1982-05-25T00:00:00Z', '1983-08-18T00:00:00Z',\n",
       "       '1983-12-22T00:00:00Z', '1984-05-23T00:00:00Z',\n",
       "       '1984-09-16T00:00:00Z', '1984-10-30T00:00:00Z',\n",
       "       '1985-11-09T00:00:00Z', '1986-04-19T00:00:00Z',\n",
       "       '1986-03-10T00:00:00Z', '1986-05-01T00:00:00Z',\n",
       "       '1987-05-22T00:00:00Z', '1987-11-15T00:00:00Z',\n",
       "       '1988-03-12T00:00:00Z', '1988-09-15T00:00:00Z',\n",
       "       '1989-03-28T00:00:00Z', '1989-05-04T00:00:00Z',\n",
       "       '1989-06-25T00:00:00Z', '1989-10-16T00:00:00Z',\n",
       "       '1989-12-21T00:00:00Z', '1990-04-15T00:00:00Z',\n",
       "       '1990-05-15T00:00:00Z', '1990-11-27T00:00:00Z',\n",
       "       '1990-12-28T00:00:00Z', '1991-03-12T00:00:00Z',\n",
       "       '1991-04-05T00:00:00Z', '1991-12-20T00:00:00Z',\n",
       "       '1992-03-04T00:00:00Z', '1992-04-21T00:00:00Z',\n",
       "       '1992-06-27T00:00:00Z', '1992-08-08T00:00:00Z',\n",
       "       '1992-05-01T00:00:00Z', '1992-06-16T00:00:00Z',\n",
       "       '1992-11-21T00:00:00Z', '1993-03-13T00:00:00Z',\n",
       "       '1993-08-21T00:00:00Z', '1993-08-16T00:00:00Z',\n",
       "       '1993-08-30T00:00:00Z', '1993-04-02T00:00:00Z',\n",
       "       '1993-05-22T00:00:00Z', '1993-08-06T00:00:00Z',\n",
       "       '1994-02-08T00:00:00Z', '1994-03-01T00:00:00Z',\n",
       "       '1994-04-25T00:00:00Z', '1994-07-01T00:00:00Z',\n",
       "       '1994-10-14T00:00:00Z', '1995-05-28T00:00:00Z',\n",
       "       '1995-06-22T00:00:00Z', '1996-01-06T00:00:00Z',\n",
       "       '1996-01-19T00:00:00Z', '1996-02-21T00:00:00Z',\n",
       "       '1996-02-23T00:00:00Z', '1996-02-26T00:00:00Z',\n",
       "       '1996-03-02T00:00:00Z', '1996-03-03T00:00:00Z',\n",
       "       '1996-03-04T00:00:00Z', '1996-03-05T00:00:00Z',\n",
       "       '1996-03-07T00:00:00Z', '1996-03-06T00:00:00Z',\n",
       "       '1996-03-10T00:00:00Z', '1996-03-11T00:00:00Z',\n",
       "       '1996-03-12T00:00:00Z', '1996-03-14T00:00:00Z',\n",
       "       '1996-03-19T00:00:00Z', '1996-02-22T00:00:00Z',\n",
       "       '1996-03-23T00:00:00Z', '1996-03-24T00:00:00Z',\n",
       "       '1996-03-30T00:00:00Z', '1996-03-31T00:00:00Z',\n",
       "       '1996-04-01T00:00:00Z', '1996-04-02T00:00:00Z',\n",
       "       '1996-04-03T00:00:00Z', '1996-04-14T00:00:00Z',\n",
       "       '1996-04-15T00:00:00Z', '1996-04-16T00:00:00Z',\n",
       "       '1996-04-25T00:00:00Z', '1996-05-01T00:00:00Z',\n",
       "       '1996-05-24T00:00:00Z', '1996-04-28T00:00:00Z',\n",
       "       '1996-07-07T00:00:00Z', '1996-09-05T00:00:00Z',\n",
       "       '1997-02-28T00:00:00Z', '1997-06-21T00:00:00Z',\n",
       "       '1998-03-09T00:00:00Z', '1998-05-10T00:00:00Z',\n",
       "       '1998-05-20T00:00:00Z', '1998-06-22T00:00:00Z',\n",
       "       '1998-06-20T00:00:00Z', '1998-06-04T00:00:00Z',\n",
       "       '1998-06-29T00:00:00Z', '1998-07-02T00:00:00Z',\n",
       "       '1998-07-10T00:00:00Z', '1998-07-12T00:00:00Z',\n",
       "       '1998-07-15T00:00:00Z', '1998-06-11T00:00:00Z',\n",
       "       '1998-07-23T00:00:00Z', '1998-07-26T00:00:00Z',\n",
       "       '1998-07-30T00:00:00Z', '1998-07-31T00:00:00Z',\n",
       "       '1998-08-01T00:00:00Z', '1998-08-02T00:00:00Z',\n",
       "       '1998-08-03T00:00:00Z', '1998-08-05T00:00:00Z',\n",
       "       '1998-08-22T00:00:00Z', '1998-09-02T00:00:00Z',\n",
       "       '1998-09-04T00:00:00Z', '1998-08-25T00:00:00Z',\n",
       "       '1998-09-05T00:00:00Z', '1998-09-08T00:00:00Z',\n",
       "       '1998-09-09T00:00:00Z', '1998-10-17T00:00:00Z',\n",
       "       '1999-01-01T00:00:00Z', '1999-03-03T00:00:00Z',\n",
       "       '1999-05-04T00:00:00Z', '1999-08-21T00:00:00Z',\n",
       "       '1999-08-26T00:00:00Z', '1998-07-27T00:00:00Z',\n",
       "       '1998-07-07T00:00:00Z', '1999-08-31T00:00:00Z',\n",
       "       '1999-08-01T00:00:00Z', '1999-08-27T00:00:00Z',\n",
       "       '1999-09-13T00:00:00Z', '1999-09-16T00:00:00Z',\n",
       "       '1999-09-19T00:00:00Z', '1999-10-26T00:00:00Z',\n",
       "       '1999-11-22T00:00:00Z', '2000-01-03T00:00:00Z',\n",
       "       '2000-01-04T00:00:00Z', '2000-01-05T00:00:00Z',\n",
       "       '2000-01-25T00:00:00Z', '2000-03-28T00:00:00Z',\n",
       "       '2000-08-23T00:00:00Z', '2000-08-26T00:00:00Z',\n",
       "       '2000-08-30T00:00:00Z', '2000-09-03T00:00:00Z',\n",
       "       '2000-09-04T00:00:00Z', '2000-09-06T00:00:00Z',\n",
       "       '2000-09-08T00:00:00Z', '2000-09-09T00:00:00Z',\n",
       "       '2000-09-17T00:00:00Z', '2000-10-02T00:00:00Z',\n",
       "       '2000-08-28T00:00:00Z', '2000-12-12T00:00:00Z',\n",
       "       '2000-12-11T00:00:00Z', '2001-06-05T00:00:00Z',\n",
       "       '2001-07-08T00:00:00Z', '2001-09-11T00:00:00Z',\n",
       "       '2001-11-14T00:00:00Z', '2001-11-19T00:00:00Z',\n",
       "       '2002-02-27T00:00:00Z', '2002-03-17T00:00:00Z',\n",
       "       '2002-04-28T00:00:00Z', '2002-06-29T00:00:00Z',\n",
       "       '2002-09-20T00:00:00Z', '2002-09-06T00:00:00Z',\n",
       "       '2002-10-24T00:00:00Z', '2003-02-01T00:00:00Z',\n",
       "       '2003-02-15T00:00:00Z', '2003-07-04T00:00:00Z',\n",
       "       '2003-07-15T00:00:00Z', '2003-08-26T00:00:00Z',\n",
       "       '2003-09-18T00:00:00Z', '2003-11-18T00:00:00Z',\n",
       "       '2004-05-25T00:00:00Z', '2004-05-24T00:00:00Z',\n",
       "       '2004-07-03T00:00:00Z', '2004-08-30T00:00:00Z',\n",
       "       '2004-09-27T00:00:00Z', '2004-12-21T00:00:00Z',\n",
       "       '2005-01-01T00:00:00Z', '2005-08-29T00:00:00Z',\n",
       "       '2005-09-20T00:00:00Z', '2005-09-23T00:00:00Z',\n",
       "       '2005-11-06T00:00:00Z', '2005-12-27T00:00:00Z',\n",
       "       '2006-01-01T00:00:00Z', '2006-01-05T00:00:00Z',\n",
       "       '2006-01-07T00:00:00Z', '2006-01-08T00:00:00Z',\n",
       "       '2006-01-11T00:00:00Z', '2005-11-27T00:00:00Z',\n",
       "       '2006-01-13T00:00:00Z', '2006-01-14T00:00:00Z',\n",
       "       '2006-01-19T00:00:00Z', '2006-01-17T00:00:00Z',\n",
       "       '2006-02-05T00:00:00Z', '2006-04-15T00:00:00Z',\n",
       "       '2006-05-26T00:00:00Z', '2006-06-27T00:00:00Z',\n",
       "       '2006-06-23T00:00:00Z', '2006-07-27T00:00:00Z',\n",
       "       '2006-08-16T00:00:00Z', '2006-08-18T00:00:00Z',\n",
       "       '2006-09-14T00:00:00Z', '2006-08-29T00:00:00Z',\n",
       "       '2006-09-12T00:00:00Z', '2006-11-15T00:00:00Z',\n",
       "       '2007-02-12T00:00:00Z', '2007-04-21T00:00:00Z',\n",
       "       '2007-06-16T00:00:00Z', '2007-08-17T00:00:00Z',\n",
       "       '2007-08-14T00:00:00Z', '2007-08-15T00:00:00Z',\n",
       "       '2008-01-07T00:00:00Z', '2008-02-08T00:00:00Z',\n",
       "       '2008-02-13T00:00:00Z', '2008-02-23T00:00:00Z',\n",
       "       '2008-02-25T00:00:00Z', '2008-03-03T00:00:00Z',\n",
       "       '2008-03-11T00:00:00Z', '2008-03-14T00:00:00Z',\n",
       "       '2008-03-15T00:00:00Z', '2008-03-19T00:00:00Z',\n",
       "       '2008-03-18T00:00:00Z', '2008-03-27T00:00:00Z',\n",
       "       '2008-03-31T00:00:00Z', '2008-04-10T00:00:00Z',\n",
       "       '2008-04-16T00:00:00Z', '2008-05-01T00:00:00Z',\n",
       "       '2008-06-03T00:00:00Z', '2008-06-04T00:00:00Z',\n",
       "       '2008-05-30T00:00:00Z', '2008-06-16T00:00:00Z',\n",
       "       '2008-07-22T00:00:00Z', '2008-08-07T00:00:00Z',\n",
       "       '2008-08-27T00:00:00Z', '2008-09-07T00:00:00Z',\n",
       "       '2008-09-12T00:00:00Z', '2009-02-25T00:00:00Z',\n",
       "       '2009-02-27T00:00:00Z', '2009-02-28T00:00:00Z',\n",
       "       '2009-03-03T00:00:00Z', '2009-03-05T00:00:00Z',\n",
       "       '2009-01-26T00:00:00Z', '2009-03-20T00:00:00Z',\n",
       "       '2009-04-02T00:00:00Z', '2009-04-04T00:00:00Z',\n",
       "       '2009-04-05T00:00:00Z', '2009-04-07T00:00:00Z',\n",
       "       '2009-04-09T00:00:00Z', '2009-03-08T00:00:00Z',\n",
       "       '2009-11-11T00:00:00Z', '2009-12-18T00:00:00Z',\n",
       "       '2010-02-05T00:00:00Z', '2010-06-27T00:00:00Z',\n",
       "       '2010-06-30T00:00:00Z', '2011-02-19T00:00:00Z',\n",
       "       '2011-02-27T00:00:00Z', '2011-03-11T00:00:00Z',\n",
       "       '2011-04-03T00:00:00Z', '2011-04-04T00:00:00Z',\n",
       "       '2011-04-09T00:00:00Z', '2011-04-06T00:00:00Z',\n",
       "       '2011-04-11T00:00:00Z', '2011-04-15T00:00:00Z',\n",
       "       '2011-04-13T00:00:00Z', '2011-04-16T00:00:00Z',\n",
       "       '2011-04-17T00:00:00Z', '2011-04-14T00:00:00Z',\n",
       "       '2011-04-26T00:00:00Z', '2011-04-29T00:00:00Z',\n",
       "       '2011-05-08T00:00:00Z', '2011-05-09T00:00:00Z',\n",
       "       '2011-05-24T00:00:00Z', '2011-05-29T00:00:00Z',\n",
       "       '2011-06-02T00:00:00Z', '2011-06-03T00:00:00Z',\n",
       "       '2011-06-16T00:00:00Z', '2011-06-17T00:00:00Z',\n",
       "       '2011-06-18T00:00:00Z', '2011-06-19T00:00:00Z',\n",
       "       '2011-06-20T00:00:00Z', '2011-04-19T00:00:00Z',\n",
       "       '2011-07-11T00:00:00Z', '2011-08-15T00:00:00Z',\n",
       "       '2011-08-26T00:00:00Z', '2011-08-30T00:00:00Z',\n",
       "       '2011-09-04T00:00:00Z', '2011-09-05T00:00:00Z',\n",
       "       '2011-09-08T00:00:00Z', '2011-09-09T00:00:00Z',\n",
       "       '2011-08-23T00:00:00Z', '2012-02-29T00:00:00Z',\n",
       "       '2012-04-24T00:00:00Z', '2012-06-29T00:00:00Z',\n",
       "       '2012-10-26T00:00:00Z', '2013-04-17T00:00:00Z',\n",
       "       '2013-10-30T00:00:00Z', '2014-01-05T00:00:00Z',\n",
       "       '2014-05-11T00:00:00Z', '2015-05-04T00:00:00Z',\n",
       "       '2015-10-13T00:00:00Z', '2015-10-22T00:00:00Z',\n",
       "       '2015-12-26T00:00:00Z', '2016-01-22T00:00:00Z',\n",
       "       '2016-03-07T00:00:00Z', '2016-04-17T00:00:00Z',\n",
       "       '2016-05-22T00:00:00Z', '2016-10-07T00:00:00Z',\n",
       "       '2017-08-23T00:00:00Z', '2018-04-13T00:00:00Z',\n",
       "       '2018-04-17T00:00:00Z', '2018-05-02T00:00:00Z',\n",
       "       '2018-02-14T00:00:00Z', '2018-06-19T00:00:00Z',\n",
       "       '2018-07-23T00:00:00Z', '2018-07-29T00:00:00Z',\n",
       "       '2018-09-13T00:00:00Z', '2018-09-08T00:00:00Z',\n",
       "       '2018-10-09T00:00:00Z', '2018-09-10T00:00:00Z',\n",
       "       '2019-06-24T00:00:00Z', '2019-08-16T00:00:00Z',\n",
       "       '2019-09-17T00:00:00Z', '2020-01-20T00:00:00Z',\n",
       "       '2020-07-25T00:00:00Z', '2020-08-23T00:00:00Z',\n",
       "       '2021-02-11T00:00:00Z', '2021-08-30T00:00:00Z',\n",
       "       '2021-12-10T00:00:00Z', '2021-12-15T00:00:00Z',\n",
       "       '2022-01-02T00:00:00Z', '2022-03-17T00:00:00Z',\n",
       "       '2022-03-20T00:00:00Z', '2022-05-18T00:00:00Z',\n",
       "       '2022-07-07T00:00:00Z', '2022-07-18T00:00:00Z',\n",
       "       '2022-07-13T00:00:00Z'], dtype=object)"
      ]
     },
     "execution_count": 44,
     "metadata": {},
     "output_type": "execute_result"
    }
   ],
   "source": [
    "df_dis['incident_begin_date'].unique()"
   ]
  },
  {
   "cell_type": "code",
   "execution_count": 45,
   "id": "3ef0c8c4",
   "metadata": {
    "execution": {
     "iopub.execute_input": "2024-06-26T17:52:42.021916Z",
     "iopub.status.busy": "2024-06-26T17:52:42.020918Z",
     "iopub.status.idle": "2024-06-26T17:52:42.034465Z",
     "shell.execute_reply": "2024-06-26T17:52:42.033700Z"
    },
    "papermill": {
     "duration": 0.05141,
     "end_time": "2024-06-26T17:52:42.036563",
     "exception": false,
     "start_time": "2024-06-26T17:52:41.985153",
     "status": "completed"
    },
    "tags": []
   },
   "outputs": [],
   "source": [
    "#Convert the 'incident_begin_date' to datetime, then extract the year.\n",
    "df_dis['year'] = pd.to_datetime(df_dis['incident_begin_date']).dt.year\n",
    "\n",
    "df_dis.drop(columns = ['incident_begin_date'], inplace = True)"
   ]
  },
  {
   "cell_type": "code",
   "execution_count": 46,
   "id": "c364143c",
   "metadata": {
    "execution": {
     "iopub.execute_input": "2024-06-26T17:52:42.104205Z",
     "iopub.status.busy": "2024-06-26T17:52:42.103822Z",
     "iopub.status.idle": "2024-06-26T17:52:42.110120Z",
     "shell.execute_reply": "2024-06-26T17:52:42.109146Z"
    },
    "papermill": {
     "duration": 0.042045,
     "end_time": "2024-06-26T17:52:42.112240",
     "exception": false,
     "start_time": "2024-06-26T17:52:42.070195",
     "status": "completed"
    },
    "tags": []
   },
   "outputs": [],
   "source": [
    "df_dis = df_dis[df_dis['year'].between(2016, 2018)]"
   ]
  },
  {
   "cell_type": "code",
   "execution_count": 47,
   "id": "6a760f8f",
   "metadata": {
    "execution": {
     "iopub.execute_input": "2024-06-26T17:52:42.180462Z",
     "iopub.status.busy": "2024-06-26T17:52:42.179406Z",
     "iopub.status.idle": "2024-06-26T17:52:42.190316Z",
     "shell.execute_reply": "2024-06-26T17:52:42.189316Z"
    },
    "papermill": {
     "duration": 0.047634,
     "end_time": "2024-06-26T17:52:42.192520",
     "exception": false,
     "start_time": "2024-06-26T17:52:42.144886",
     "status": "completed"
    },
    "tags": []
   },
   "outputs": [
    {
     "data": {
      "text/html": [
       "<div>\n",
       "<style scoped>\n",
       "    .dataframe tbody tr th:only-of-type {\n",
       "        vertical-align: middle;\n",
       "    }\n",
       "\n",
       "    .dataframe tbody tr th {\n",
       "        vertical-align: top;\n",
       "    }\n",
       "\n",
       "    .dataframe thead th {\n",
       "        text-align: right;\n",
       "    }\n",
       "</style>\n",
       "<table border=\"1\" class=\"dataframe\">\n",
       "  <thead>\n",
       "    <tr style=\"text-align: right;\">\n",
       "      <th></th>\n",
       "      <th>incident_type</th>\n",
       "      <th>state</th>\n",
       "      <th>year</th>\n",
       "    </tr>\n",
       "  </thead>\n",
       "  <tbody>\n",
       "    <tr>\n",
       "      <th>45753</th>\n",
       "      <td>Snowstorm</td>\n",
       "      <td>VA</td>\n",
       "      <td>2016</td>\n",
       "    </tr>\n",
       "    <tr>\n",
       "      <th>45754</th>\n",
       "      <td>Snowstorm</td>\n",
       "      <td>VA</td>\n",
       "      <td>2016</td>\n",
       "    </tr>\n",
       "    <tr>\n",
       "      <th>45755</th>\n",
       "      <td>Snowstorm</td>\n",
       "      <td>VA</td>\n",
       "      <td>2016</td>\n",
       "    </tr>\n",
       "    <tr>\n",
       "      <th>45756</th>\n",
       "      <td>Snowstorm</td>\n",
       "      <td>VA</td>\n",
       "      <td>2016</td>\n",
       "    </tr>\n",
       "    <tr>\n",
       "      <th>45757</th>\n",
       "      <td>Snowstorm</td>\n",
       "      <td>VA</td>\n",
       "      <td>2016</td>\n",
       "    </tr>\n",
       "  </tbody>\n",
       "</table>\n",
       "</div>"
      ],
      "text/plain": [
       "      incident_type state  year\n",
       "45753     Snowstorm    VA  2016\n",
       "45754     Snowstorm    VA  2016\n",
       "45755     Snowstorm    VA  2016\n",
       "45756     Snowstorm    VA  2016\n",
       "45757     Snowstorm    VA  2016"
      ]
     },
     "execution_count": 47,
     "metadata": {},
     "output_type": "execute_result"
    }
   ],
   "source": [
    "df_dis.head(5)"
   ]
  },
  {
   "cell_type": "code",
   "execution_count": 48,
   "id": "4f41ee69",
   "metadata": {
    "execution": {
     "iopub.execute_input": "2024-06-26T17:52:42.260810Z",
     "iopub.status.busy": "2024-06-26T17:52:42.260420Z",
     "iopub.status.idle": "2024-06-26T17:52:42.266613Z",
     "shell.execute_reply": "2024-06-26T17:52:42.265758Z"
    },
    "papermill": {
     "duration": 0.043205,
     "end_time": "2024-06-26T17:52:42.268854",
     "exception": false,
     "start_time": "2024-06-26T17:52:42.225649",
     "status": "completed"
    },
    "tags": []
   },
   "outputs": [
    {
     "data": {
      "text/plain": [
       "(465, 3)"
      ]
     },
     "execution_count": 48,
     "metadata": {},
     "output_type": "execute_result"
    }
   ],
   "source": [
    "df_dis.shape"
   ]
  },
  {
   "cell_type": "markdown",
   "id": "e76f45f4",
   "metadata": {
    "papermill": {
     "duration": 0.033854,
     "end_time": "2024-06-26T17:52:42.336011",
     "exception": false,
     "start_time": "2024-06-26T17:52:42.302157",
     "status": "completed"
    },
    "tags": []
   },
   "source": [
    "# Merge two dataset"
   ]
  },
  {
   "cell_type": "code",
   "execution_count": 49,
   "id": "ea93dcc7",
   "metadata": {
    "execution": {
     "iopub.execute_input": "2024-06-26T17:52:42.403308Z",
     "iopub.status.busy": "2024-06-26T17:52:42.402331Z",
     "iopub.status.idle": "2024-06-26T17:52:51.819685Z",
     "shell.execute_reply": "2024-06-26T17:52:51.818491Z"
    },
    "papermill": {
     "duration": 9.45352,
     "end_time": "2024-06-26T17:52:51.822197",
     "exception": false,
     "start_time": "2024-06-26T17:52:42.368677",
     "status": "completed"
    },
    "tags": []
   },
   "outputs": [],
   "source": [
    "#merge with feature year\n",
    "merged_df = pd.merge(df1, df_dis, on='year')"
   ]
  },
  {
   "cell_type": "code",
   "execution_count": 50,
   "id": "743d4bc9",
   "metadata": {
    "execution": {
     "iopub.execute_input": "2024-06-26T17:52:51.892631Z",
     "iopub.status.busy": "2024-06-26T17:52:51.891740Z",
     "iopub.status.idle": "2024-06-26T17:52:51.905500Z",
     "shell.execute_reply": "2024-06-26T17:52:51.904492Z"
    },
    "papermill": {
     "duration": 0.051459,
     "end_time": "2024-06-26T17:52:51.907649",
     "exception": false,
     "start_time": "2024-06-26T17:52:51.856190",
     "status": "completed"
    },
    "tags": []
   },
   "outputs": [
    {
     "data": {
      "text/html": [
       "<div>\n",
       "<style scoped>\n",
       "    .dataframe tbody tr th:only-of-type {\n",
       "        vertical-align: middle;\n",
       "    }\n",
       "\n",
       "    .dataframe tbody tr th {\n",
       "        vertical-align: top;\n",
       "    }\n",
       "\n",
       "    .dataframe thead th {\n",
       "        text-align: right;\n",
       "    }\n",
       "</style>\n",
       "<table border=\"1\" class=\"dataframe\">\n",
       "  <thead>\n",
       "    <tr style=\"text-align: right;\">\n",
       "      <th></th>\n",
       "      <th>last_pymnt_amnt</th>\n",
       "      <th>total_rec_prncp</th>\n",
       "      <th>loan_status</th>\n",
       "      <th>year</th>\n",
       "      <th>incident_type</th>\n",
       "      <th>state</th>\n",
       "    </tr>\n",
       "  </thead>\n",
       "  <tbody>\n",
       "    <tr>\n",
       "      <th>0</th>\n",
       "      <td>306.97</td>\n",
       "      <td>79.72</td>\n",
       "      <td>1</td>\n",
       "      <td>2018</td>\n",
       "      <td>Fire</td>\n",
       "      <td>TX</td>\n",
       "    </tr>\n",
       "    <tr>\n",
       "      <th>1</th>\n",
       "      <td>306.97</td>\n",
       "      <td>79.72</td>\n",
       "      <td>1</td>\n",
       "      <td>2018</td>\n",
       "      <td>Fire</td>\n",
       "      <td>TX</td>\n",
       "    </tr>\n",
       "    <tr>\n",
       "      <th>2</th>\n",
       "      <td>306.97</td>\n",
       "      <td>79.72</td>\n",
       "      <td>1</td>\n",
       "      <td>2018</td>\n",
       "      <td>Fire</td>\n",
       "      <td>TX</td>\n",
       "    </tr>\n",
       "    <tr>\n",
       "      <th>3</th>\n",
       "      <td>306.97</td>\n",
       "      <td>79.72</td>\n",
       "      <td>1</td>\n",
       "      <td>2018</td>\n",
       "      <td>Fire</td>\n",
       "      <td>TX</td>\n",
       "    </tr>\n",
       "    <tr>\n",
       "      <th>4</th>\n",
       "      <td>306.97</td>\n",
       "      <td>79.72</td>\n",
       "      <td>1</td>\n",
       "      <td>2018</td>\n",
       "      <td>Flood</td>\n",
       "      <td>IN</td>\n",
       "    </tr>\n",
       "  </tbody>\n",
       "</table>\n",
       "</div>"
      ],
      "text/plain": [
       "   last_pymnt_amnt  total_rec_prncp  loan_status  year incident_type state\n",
       "0           306.97            79.72            1  2018          Fire    TX\n",
       "1           306.97            79.72            1  2018          Fire    TX\n",
       "2           306.97            79.72            1  2018          Fire    TX\n",
       "3           306.97            79.72            1  2018          Fire    TX\n",
       "4           306.97            79.72            1  2018         Flood    IN"
      ]
     },
     "execution_count": 50,
     "metadata": {},
     "output_type": "execute_result"
    }
   ],
   "source": [
    "merged_df.head() #insert state in code above"
   ]
  },
  {
   "cell_type": "code",
   "execution_count": 51,
   "id": "5d18dadf",
   "metadata": {
    "execution": {
     "iopub.execute_input": "2024-06-26T17:52:51.978923Z",
     "iopub.status.busy": "2024-06-26T17:52:51.978454Z",
     "iopub.status.idle": "2024-06-26T17:52:51.984874Z",
     "shell.execute_reply": "2024-06-26T17:52:51.983889Z"
    },
    "papermill": {
     "duration": 0.043567,
     "end_time": "2024-06-26T17:52:51.987117",
     "exception": false,
     "start_time": "2024-06-26T17:52:51.943550",
     "status": "completed"
    },
    "scrolled": true,
    "tags": []
   },
   "outputs": [
    {
     "data": {
      "text/plain": [
       "(61695491, 6)"
      ]
     },
     "execution_count": 51,
     "metadata": {},
     "output_type": "execute_result"
    }
   ],
   "source": [
    "merged_df.shape"
   ]
  },
  {
   "cell_type": "code",
   "execution_count": 52,
   "id": "b5f1401c",
   "metadata": {
    "execution": {
     "iopub.execute_input": "2024-06-26T17:52:52.058840Z",
     "iopub.status.busy": "2024-06-26T17:52:52.057859Z",
     "iopub.status.idle": "2024-06-26T17:53:09.633901Z",
     "shell.execute_reply": "2024-06-26T17:53:09.632650Z"
    },
    "papermill": {
     "duration": 17.614168,
     "end_time": "2024-06-26T17:53:09.636415",
     "exception": false,
     "start_time": "2024-06-26T17:52:52.022247",
     "status": "completed"
    },
    "tags": []
   },
   "outputs": [
    {
     "name": "stdout",
     "output_type": "stream",
     "text": [
      "Number of duplicate rows: 60730868\n"
     ]
    }
   ],
   "source": [
    "#check if there are some duplicate rows\n",
    "number_of_duplicates = merged_df.duplicated().sum()\n",
    "\n",
    "print(f\"Number of duplicate rows: {number_of_duplicates}\")"
   ]
  },
  {
   "cell_type": "code",
   "execution_count": 53,
   "id": "52398d75",
   "metadata": {
    "execution": {
     "iopub.execute_input": "2024-06-26T17:53:09.710270Z",
     "iopub.status.busy": "2024-06-26T17:53:09.709851Z",
     "iopub.status.idle": "2024-06-26T17:53:27.268182Z",
     "shell.execute_reply": "2024-06-26T17:53:27.267199Z"
    },
    "papermill": {
     "duration": 17.599001,
     "end_time": "2024-06-26T17:53:27.270927",
     "exception": false,
     "start_time": "2024-06-26T17:53:09.671926",
     "status": "completed"
    },
    "tags": []
   },
   "outputs": [],
   "source": [
    "merged_df.drop_duplicates(inplace=True)"
   ]
  },
  {
   "cell_type": "code",
   "execution_count": 54,
   "id": "8e29cad5",
   "metadata": {
    "execution": {
     "iopub.execute_input": "2024-06-26T17:53:27.339975Z",
     "iopub.status.busy": "2024-06-26T17:53:27.339567Z",
     "iopub.status.idle": "2024-06-26T17:53:27.539040Z",
     "shell.execute_reply": "2024-06-26T17:53:27.538083Z"
    },
    "papermill": {
     "duration": 0.236258,
     "end_time": "2024-06-26T17:53:27.541309",
     "exception": false,
     "start_time": "2024-06-26T17:53:27.305051",
     "status": "completed"
    },
    "tags": []
   },
   "outputs": [
    {
     "data": {
      "text/plain": [
       "last_pymnt_amnt    0\n",
       "total_rec_prncp    0\n",
       "loan_status        0\n",
       "year               0\n",
       "incident_type      0\n",
       "state              0\n",
       "dtype: int64"
      ]
     },
     "execution_count": 54,
     "metadata": {},
     "output_type": "execute_result"
    }
   ],
   "source": [
    "#check if there are missing values\n",
    "merged_df.isnull().sum()"
   ]
  },
  {
   "cell_type": "markdown",
   "id": "ec17b43c",
   "metadata": {
    "papermill": {
     "duration": 0.033754,
     "end_time": "2024-06-26T17:53:27.609689",
     "exception": false,
     "start_time": "2024-06-26T17:53:27.575935",
     "status": "completed"
    },
    "tags": []
   },
   "source": [
    "## One-hot encoding"
   ]
  },
  {
   "cell_type": "code",
   "execution_count": 55,
   "id": "839a9021",
   "metadata": {
    "execution": {
     "iopub.execute_input": "2024-06-26T17:53:27.678974Z",
     "iopub.status.busy": "2024-06-26T17:53:27.678582Z",
     "iopub.status.idle": "2024-06-26T17:53:27.926716Z",
     "shell.execute_reply": "2024-06-26T17:53:27.925780Z"
    },
    "papermill": {
     "duration": 0.286383,
     "end_time": "2024-06-26T17:53:27.929403",
     "exception": false,
     "start_time": "2024-06-26T17:53:27.643020",
     "status": "completed"
    },
    "tags": []
   },
   "outputs": [],
   "source": [
    "merged_df = pd.get_dummies(merged_df, columns=['incident_type', 'state'])"
   ]
  },
  {
   "cell_type": "code",
   "execution_count": 56,
   "id": "cf8417c3",
   "metadata": {
    "execution": {
     "iopub.execute_input": "2024-06-26T17:53:27.998737Z",
     "iopub.status.busy": "2024-06-26T17:53:27.998369Z",
     "iopub.status.idle": "2024-06-26T17:53:28.005178Z",
     "shell.execute_reply": "2024-06-26T17:53:28.004217Z"
    },
    "papermill": {
     "duration": 0.043649,
     "end_time": "2024-06-26T17:53:28.007381",
     "exception": false,
     "start_time": "2024-06-26T17:53:27.963732",
     "status": "completed"
    },
    "tags": []
   },
   "outputs": [
    {
     "data": {
      "text/plain": [
       "(964623, 11)"
      ]
     },
     "execution_count": 56,
     "metadata": {},
     "output_type": "execute_result"
    }
   ],
   "source": [
    "merged_df.shape"
   ]
  },
  {
   "cell_type": "markdown",
   "id": "582a5901",
   "metadata": {
    "papermill": {
     "duration": 0.035282,
     "end_time": "2024-06-26T17:53:28.076935",
     "exception": false,
     "start_time": "2024-06-26T17:53:28.041653",
     "status": "completed"
    },
    "tags": []
   },
   "source": [
    "## Correlation Matrix Heatmap"
   ]
  },
  {
   "cell_type": "code",
   "execution_count": 57,
   "id": "093385a4",
   "metadata": {
    "execution": {
     "iopub.execute_input": "2024-06-26T17:53:28.148466Z",
     "iopub.status.busy": "2024-06-26T17:53:28.147261Z",
     "iopub.status.idle": "2024-06-26T17:53:29.228832Z",
     "shell.execute_reply": "2024-06-26T17:53:29.227447Z"
    },
    "papermill": {
     "duration": 1.122465,
     "end_time": "2024-06-26T17:53:29.233815",
     "exception": false,
     "start_time": "2024-06-26T17:53:28.111350",
     "status": "completed"
    },
    "tags": []
   },
   "outputs": [
    {
     "data": {
      "image/png": "[encoded data removed]",
      "text/plain": [
       "<Figure size 1500x1500 with 2 Axes>"
      ]
     },
     "metadata": {},
     "output_type": "display_data"
    }
   ],
   "source": [
    "corr = merged_df. corr()\n",
    "plt.figure(figsize=(15, 15))\n",
    "heatmap = sns.heatmap(corr, vmin=-1, vmax=1, annot=True, cmap='BrBG', cbar=True)\n",
    "plt.show()"
   ]
  },
  {
   "cell_type": "markdown",
   "id": "43b5a4f4",
   "metadata": {
    "papermill": {
     "duration": 0.038613,
     "end_time": "2024-06-26T17:53:29.327418",
     "exception": false,
     "start_time": "2024-06-26T17:53:29.288805",
     "status": "completed"
    },
    "tags": []
   },
   "source": [
    "## Correlation Matrix on correlated pairs"
   ]
  },
  {
   "cell_type": "code",
   "execution_count": 58,
   "id": "c013b3b2",
   "metadata": {
    "execution": {
     "iopub.execute_input": "2024-06-26T17:53:29.410502Z",
     "iopub.status.busy": "2024-06-26T17:53:29.409499Z",
     "iopub.status.idle": "2024-06-26T17:53:29.423918Z",
     "shell.execute_reply": "2024-06-26T17:53:29.422613Z"
    },
    "papermill": {
     "duration": 0.061373,
     "end_time": "2024-06-26T17:53:29.427564",
     "exception": false,
     "start_time": "2024-06-26T17:53:29.366191",
     "status": "completed"
    },
    "tags": []
   },
   "outputs": [
    {
     "name": "stdout",
     "output_type": "stream",
     "text": [
      "Correlated pairs with their correlation coefficient:\n",
      "last_pymnt_amnt and total_rec_prncp have a correlation of 0.32\n",
      "last_pymnt_amnt and loan_status have a correlation of -0.54\n",
      "last_pymnt_amnt and year have a correlation of 0.02\n",
      "last_pymnt_amnt and incident_type_Fire have a correlation of 0.01\n",
      "last_pymnt_amnt and incident_type_Flood have a correlation of 0.00\n",
      "last_pymnt_amnt and incident_type_Hurricane have a correlation of 0.00\n",
      "last_pymnt_amnt and incident_type_Snowstorm have a correlation of -0.01\n",
      "last_pymnt_amnt and state_IN have a correlation of 0.01\n",
      "last_pymnt_amnt and state_TX have a correlation of 0.00\n",
      "last_pymnt_amnt and state_VA have a correlation of -0.01\n",
      "total_rec_prncp and loan_status have a correlation of -0.46\n",
      "total_rec_prncp and year have a correlation of 0.13\n",
      "total_rec_prncp and incident_type_Fire have a correlation of 0.04\n",
      "total_rec_prncp and incident_type_Flood have a correlation of 0.03\n",
      "total_rec_prncp and incident_type_Hurricane have a correlation of -0.02\n",
      "total_rec_prncp and incident_type_Snowstorm have a correlation of -0.06\n",
      "total_rec_prncp and state_IN have a correlation of 0.04\n",
      "total_rec_prncp and state_TX have a correlation of 0.01\n",
      "total_rec_prncp and state_VA have a correlation of -0.04\n",
      "loan_status and year have a correlation of -0.14\n",
      "loan_status and incident_type_Fire have a correlation of -0.05\n",
      "loan_status and incident_type_Flood have a correlation of -0.03\n",
      "loan_status and incident_type_Hurricane have a correlation of 0.03\n",
      "loan_status and incident_type_Snowstorm have a correlation of 0.06\n",
      "loan_status and state_IN have a correlation of -0.05\n",
      "loan_status and state_TX have a correlation of -0.01\n",
      "loan_status and state_VA have a correlation of 0.04\n",
      "year and incident_type_Fire have a correlation of 0.33\n",
      "year and incident_type_Flood have a correlation of 0.19\n",
      "year and incident_type_Hurricane have a correlation of -0.14\n",
      "year and incident_type_Snowstorm have a correlation of -0.47\n",
      "year and state_IN have a correlation of 0.33\n",
      "year and state_TX have a correlation of 0.10\n",
      "year and state_VA have a correlation of -0.35\n",
      "incident_type_Fire and incident_type_Flood have a correlation of -0.32\n",
      "incident_type_Fire and incident_type_Hurricane have a correlation of -0.32\n",
      "incident_type_Fire and incident_type_Snowstorm have a correlation of -0.13\n",
      "incident_type_Fire and state_IN have a correlation of -0.17\n",
      "incident_type_Fire and state_TX have a correlation of 0.39\n",
      "incident_type_Fire and state_VA have a correlation of -0.29\n",
      "incident_type_Flood and incident_type_Hurricane have a correlation of -0.61\n",
      "incident_type_Flood and incident_type_Snowstorm have a correlation of -0.26\n",
      "incident_type_Flood and state_IN have a correlation of 0.52\n",
      "incident_type_Flood and state_TX have a correlation of 0.17\n",
      "incident_type_Flood and state_VA have a correlation of -0.56\n",
      "incident_type_Hurricane and incident_type_Snowstorm have a correlation of -0.25\n",
      "incident_type_Hurricane and state_IN have a correlation of -0.32\n",
      "incident_type_Hurricane and state_TX have a correlation of -0.25\n",
      "incident_type_Hurricane and state_VA have a correlation of 0.50\n",
      "incident_type_Snowstorm and state_IN have a correlation of -0.13\n",
      "incident_type_Snowstorm and state_TX have a correlation of -0.34\n",
      "incident_type_Snowstorm and state_VA have a correlation of 0.46\n",
      "state_IN and state_TX have a correlation of -0.43\n",
      "state_IN and state_VA have a correlation of -0.29\n",
      "state_TX and state_VA have a correlation of -0.74\n"
     ]
    }
   ],
   "source": [
    "# Find features that are correlated\n",
    "correlated_pairs = []\n",
    "for i in range(len(corr.columns)):\n",
    "    for j in range(i+1, len(corr.columns)): \n",
    "        col1 = corr.columns[i]\n",
    "        col2 = corr.columns[j]\n",
    "        corr_value = corr.iloc[i, j]\n",
    "        correlated_pairs.append((col1, col2, corr_value))\n",
    "\n",
    "# Print out correlated pairs with their correlation coefficient\n",
    "print(\"Correlated pairs with their correlation coefficient:\")\n",
    "for col1, col2, corr_value in correlated_pairs:\n",
    "    print(f\"{col1} and {col2} have a correlation of {corr_value:.2f}\")"
   ]
  },
  {
   "cell_type": "markdown",
   "id": "247529f2",
   "metadata": {
    "papermill": {
     "duration": 0.037973,
     "end_time": "2024-06-26T17:53:29.516871",
     "exception": false,
     "start_time": "2024-06-26T17:53:29.478898",
     "status": "completed"
    },
    "tags": []
   },
   "source": [
    "## Correlation Matrix with the target variables"
   ]
  },
  {
   "cell_type": "code",
   "execution_count": 59,
   "id": "bb01062a",
   "metadata": {
    "execution": {
     "iopub.execute_input": "2024-06-26T17:53:29.623011Z",
     "iopub.status.busy": "2024-06-26T17:53:29.622498Z",
     "iopub.status.idle": "2024-06-26T17:53:29.791086Z",
     "shell.execute_reply": "2024-06-26T17:53:29.790004Z"
    },
    "papermill": {
     "duration": 0.228351,
     "end_time": "2024-06-26T17:53:29.794298",
     "exception": false,
     "start_time": "2024-06-26T17:53:29.565947",
     "status": "completed"
    },
    "scrolled": true,
    "tags": []
   },
   "outputs": [
    {
     "name": "stdout",
     "output_type": "stream",
     "text": [
      "last_pymnt_amnt and loan_status have a correlation of -0.54\n",
      "total_rec_prncp and loan_status have a correlation of -0.46\n",
      "year and loan_status have a correlation of -0.14\n",
      "incident_type_Fire and loan_status have a correlation of -0.05\n",
      "incident_type_Flood and loan_status have a correlation of -0.03\n",
      "incident_type_Hurricane and loan_status have a correlation of 0.03\n",
      "incident_type_Snowstorm and loan_status have a correlation of 0.06\n",
      "state_IN and loan_status have a correlation of -0.05\n",
      "state_TX and loan_status have a correlation of -0.01\n",
      "state_VA and loan_status have a correlation of 0.04\n"
     ]
    }
   ],
   "source": [
    "# Find features that are correlated with the target variable 'loan_status'\n",
    "correlated_with_loan_status = []\n",
    "for column in merged_df.columns:\n",
    "    if column != 'loan_status':\n",
    "        corr_value = merged_df['loan_status'].corr(merged_df[column])\n",
    "        correlated_with_loan_status.append((column, corr_value))\n",
    "\n",
    "# Print out correlated pairs with their correlation coefficient\n",
    "for feature, corr_value in correlated_with_loan_status:\n",
    "    print(f\"{feature} and loan_status have a correlation of {corr_value:.2f}\")"
   ]
  },
  {
   "cell_type": "code",
   "execution_count": 60,
   "id": "252641ac",
   "metadata": {
    "execution": {
     "iopub.execute_input": "2024-06-26T17:53:29.878199Z",
     "iopub.status.busy": "2024-06-26T17:53:29.877359Z",
     "iopub.status.idle": "2024-06-26T17:53:30.665192Z",
     "shell.execute_reply": "2024-06-26T17:53:30.664077Z"
    },
    "papermill": {
     "duration": 0.828853,
     "end_time": "2024-06-26T17:53:30.667526",
     "exception": false,
     "start_time": "2024-06-26T17:53:29.838673",
     "status": "completed"
    },
    "tags": []
   },
   "outputs": [
    {
     "data": {
      "image/png": "[encoded data removed]",
      "text/plain": [
       "<Figure size 1000x800 with 2 Axes>"
      ]
     },
     "metadata": {},
     "output_type": "display_data"
    }
   ],
   "source": [
    "# Calculate correlations\n",
    "correlation_matrix = merged_df.corr()\n",
    "\n",
    "# Filter correlations with 'loan_status'\n",
    "correlation_with_loan_status = correlation_matrix['loan_status'].drop('loan_status')\n",
    "\n",
    "# Plot heatmap\n",
    "plt.figure(figsize=(10, 8))\n",
    "sns.heatmap(correlation_with_loan_status.to_frame(), cmap='BrBG', annot=True, fmt=\".2f\", vmin=-1, vmax=1, cbar=True)\n",
    "plt.title(\"Correlation with loan_status\")\n",
    "plt.xlabel(\"Features\")\n",
    "plt.ylabel(\"Loan Status\")\n",
    "plt.show()"
   ]
  },
  {
   "cell_type": "markdown",
   "id": "ec44e52e",
   "metadata": {
    "papermill": {
     "duration": 0.038387,
     "end_time": "2024-06-26T17:53:30.745126",
     "exception": false,
     "start_time": "2024-06-26T17:53:30.706739",
     "status": "completed"
    },
    "tags": []
   },
   "source": [
    "# Predictive Model: Training, testing, and predicting"
   ]
  },
  {
   "cell_type": "code",
   "execution_count": 61,
   "id": "1c427245",
   "metadata": {
    "execution": {
     "iopub.execute_input": "2024-06-26T17:53:30.824698Z",
     "iopub.status.busy": "2024-06-26T17:53:30.823864Z",
     "iopub.status.idle": "2024-06-26T17:53:30.945800Z",
     "shell.execute_reply": "2024-06-26T17:53:30.944951Z"
    },
    "papermill": {
     "duration": 0.16436,
     "end_time": "2024-06-26T17:53:30.948411",
     "exception": false,
     "start_time": "2024-06-26T17:53:30.784051",
     "status": "completed"
    },
    "tags": []
   },
   "outputs": [],
   "source": [
    "X = merged_df.drop('loan_status', axis=1)\n",
    "y = merged_df['loan_status']\n",
    "\n",
    "X_train, X_test, y_train, y_test = train_test_split(X, y, test_size=0.25, random_state=123)"
   ]
  },
  {
   "cell_type": "code",
   "execution_count": 62,
   "id": "fc114176",
   "metadata": {
    "execution": {
     "iopub.execute_input": "2024-06-26T17:53:31.028199Z",
     "iopub.status.busy": "2024-06-26T17:53:31.027782Z",
     "iopub.status.idle": "2024-06-26T17:56:22.825856Z",
     "shell.execute_reply": "2024-06-26T17:56:22.824792Z"
    },
    "papermill": {
     "duration": 171.880644,
     "end_time": "2024-06-26T17:56:22.867927",
     "exception": false,
     "start_time": "2024-06-26T17:53:30.987283",
     "status": "completed"
    },
    "tags": []
   },
   "outputs": [
    {
     "data": {
      "text/html": [
       "<style>#sk-container-id-1 {color: black;background-color: white;}#sk-container-id-1 pre{padding: 0;}#sk-container-id-1 div.sk-toggleable {background-color: white;}#sk-container-id-1 label.sk-toggleable__label {cursor: pointer;display: block;width: 100%;margin-bottom: 0;padding: 0.3em;box-sizing: border-box;text-align: center;}#sk-container-id-1 label.sk-toggleable__label-arrow:before {content: \"▸\";float: left;margin-right: 0.25em;color: #696969;}#sk-container-id-1 label.sk-toggleable__label-arrow:hover:before {color: black;}#sk-container-id-1 div.sk-estimator:hover label.sk-toggleable__label-arrow:before {color: black;}#sk-container-id-1 div.sk-toggleable__content {max-height: 0;max-width: 0;overflow: hidden;text-align: left;background-color: #f0f8ff;}#sk-container-id-1 div.sk-toggleable__content pre {margin: 0.2em;color: black;border-radius: 0.25em;background-color: #f0f8ff;}#sk-container-id-1 input.sk-toggleable__control:checked~div.sk-toggleable__content {max-height: 200px;max-width: 100%;overflow: auto;}#sk-container-id-1 input.sk-toggleable__control:checked~label.sk-toggleable__label-arrow:before {content: \"▾\";}#sk-container-id-1 div.sk-estimator input.sk-toggleable__control:checked~label.sk-toggleable__label {background-color: #d4ebff;}#sk-container-id-1 div.sk-label input.sk-toggleable__control:checked~label.sk-toggleable__label {background-color: #d4ebff;}#sk-container-id-1 input.sk-hidden--visually {border: 0;clip: rect(1px 1px 1px 1px);clip: rect(1px, 1px, 1px, 1px);height: 1px;margin: -1px;overflow: hidden;padding: 0;position: absolute;width: 1px;}#sk-container-id-1 div.sk-estimator {font-family: monospace;background-color: #f0f8ff;border: 1px dotted black;border-radius: 0.25em;box-sizing: border-box;margin-bottom: 0.5em;}#sk-container-id-1 div.sk-estimator:hover {background-color: #d4ebff;}#sk-container-id-1 div.sk-parallel-item::after {content: \"\";width: 100%;border-bottom: 1px solid gray;flex-grow: 1;}#sk-container-id-1 div.sk-label:hover label.sk-toggleable__label {background-color: #d4ebff;}#sk-container-id-1 div.sk-serial::before {content: \"\";position: absolute;border-left: 1px solid gray;box-sizing: border-box;top: 0;bottom: 0;left: 50%;z-index: 0;}#sk-container-id-1 div.sk-serial {display: flex;flex-direction: column;align-items: center;background-color: white;padding-right: 0.2em;padding-left: 0.2em;position: relative;}#sk-container-id-1 div.sk-item {position: relative;z-index: 1;}#sk-container-id-1 div.sk-parallel {display: flex;align-items: stretch;justify-content: center;background-color: white;position: relative;}#sk-container-id-1 div.sk-item::before, #sk-container-id-1 div.sk-parallel-item::before {content: \"\";position: absolute;border-left: 1px solid gray;box-sizing: border-box;top: 0;bottom: 0;left: 50%;z-index: -1;}#sk-container-id-1 div.sk-parallel-item {display: flex;flex-direction: column;z-index: 1;position: relative;background-color: white;}#sk-container-id-1 div.sk-parallel-item:first-child::after {align-self: flex-end;width: 50%;}#sk-container-id-1 div.sk-parallel-item:last-child::after {align-self: flex-start;width: 50%;}#sk-container-id-1 div.sk-parallel-item:only-child::after {width: 0;}#sk-container-id-1 div.sk-dashed-wrapped {border: 1px dashed gray;margin: 0 0.4em 0.5em 0.4em;box-sizing: border-box;padding-bottom: 0.4em;background-color: white;}#sk-container-id-1 div.sk-label label {font-family: monospace;font-weight: bold;display: inline-block;line-height: 1.2em;}#sk-container-id-1 div.sk-label-container {text-align: center;}#sk-container-id-1 div.sk-container {/* jupyter's `normalize.less` sets `[hidden] { display: none; }` but bootstrap.min.css set `[hidden] { display: none !important; }` so we also need the `!important` here to be able to override the default hidden behavior on the sphinx rendered scikit-learn.org. See: https://github.com/scikit-learn/scikit-learn/issues/21755 */display: inline-block !important;position: relative;}#sk-container-id-1 div.sk-text-repr-fallback {display: none;}</style><div id=\"sk-container-id-1\" class=\"sk-top-container\"><div class=\"sk-text-repr-fallback\"><pre>RandomForestClassifier(random_state=1234)</pre><b>In a Jupyter environment, please rerun this cell to show the HTML representation or trust the notebook. <br />On GitHub, the HTML representation is unable to render, please try loading this page with nbviewer.org.</b></div><div class=\"sk-container\" hidden><div class=\"sk-item\"><div class=\"sk-estimator sk-toggleable\"><input class=\"sk-toggleable__control sk-hidden--visually\" id=\"sk-estimator-id-1\" type=\"checkbox\" checked><label for=\"sk-estimator-id-1\" class=\"sk-toggleable__label sk-toggleable__label-arrow\">RandomForestClassifier</label><div class=\"sk-toggleable__content\"><pre>RandomForestClassifier(random_state=1234)</pre></div></div></div></div></div>"
      ],
      "text/plain": [
       "RandomForestClassifier(random_state=1234)"
      ]
     },
     "execution_count": 62,
     "metadata": {},
     "output_type": "execute_result"
    }
   ],
   "source": [
    "#Random forest\n",
    "random_forest_model = RandomForestClassifier(n_estimators=100, random_state=1234)\n",
    "random_forest_model.fit(X_train, y_train)"
   ]
  },
  {
   "cell_type": "code",
   "execution_count": 63,
   "id": "c2e996ae",
   "metadata": {
    "execution": {
     "iopub.execute_input": "2024-06-26T17:56:22.945288Z",
     "iopub.status.busy": "2024-06-26T17:56:22.944888Z",
     "iopub.status.idle": "2024-06-26T17:56:30.031918Z",
     "shell.execute_reply": "2024-06-26T17:56:30.030782Z"
    },
    "papermill": {
     "duration": 7.12823,
     "end_time": "2024-06-26T17:56:30.034449",
     "exception": false,
     "start_time": "2024-06-26T17:56:22.906219",
     "status": "completed"
    },
    "tags": []
   },
   "outputs": [],
   "source": [
    "y_pred = random_forest_model.predict(X_test)"
   ]
  },
  {
   "cell_type": "code",
   "execution_count": 64,
   "id": "deebcba0",
   "metadata": {
    "execution": {
     "iopub.execute_input": "2024-06-26T17:56:30.114013Z",
     "iopub.status.busy": "2024-06-26T17:56:30.112999Z",
     "iopub.status.idle": "2024-06-26T17:56:30.571424Z",
     "shell.execute_reply": "2024-06-26T17:56:30.570069Z"
    },
    "papermill": {
     "duration": 0.500188,
     "end_time": "2024-06-26T17:56:30.573597",
     "exception": false,
     "start_time": "2024-06-26T17:56:30.073409",
     "status": "completed"
    },
    "tags": []
   },
   "outputs": [
    {
     "name": "stdout",
     "output_type": "stream",
     "text": [
      "Random Forest Classification Report:\n",
      "              precision    recall  f1-score   support\n",
      "\n",
      "           0       0.96      0.96      0.96    126124\n",
      "           1       0.96      0.95      0.95    115032\n",
      "\n",
      "    accuracy                           0.96    241156\n",
      "   macro avg       0.96      0.96      0.96    241156\n",
      "weighted avg       0.96      0.96      0.96    241156\n",
      "\n"
     ]
    }
   ],
   "source": [
    "print(\"Random Forest Classification Report:\")\n",
    "print(classification_report(y_test, y_pred))"
   ]
  },
  {
   "cell_type": "markdown",
   "id": "b2ecd604",
   "metadata": {
    "papermill": {
     "duration": 0.039016,
     "end_time": "2024-06-26T17:56:30.650508",
     "exception": false,
     "start_time": "2024-06-26T17:56:30.611492",
     "status": "completed"
    },
    "tags": []
   },
   "source": [
    "## Feature Importance"
   ]
  },
  {
   "cell_type": "code",
   "execution_count": 65,
   "id": "a65c0140",
   "metadata": {
    "execution": {
     "iopub.execute_input": "2024-06-26T17:56:30.729981Z",
     "iopub.status.busy": "2024-06-26T17:56:30.729451Z",
     "iopub.status.idle": "2024-06-26T17:56:30.841953Z",
     "shell.execute_reply": "2024-06-26T17:56:30.840762Z"
    },
    "papermill": {
     "duration": 0.154148,
     "end_time": "2024-06-26T17:56:30.844094",
     "exception": false,
     "start_time": "2024-06-26T17:56:30.689946",
     "status": "completed"
    },
    "tags": []
   },
   "outputs": [
    {
     "name": "stdout",
     "output_type": "stream",
     "text": [
      "                   Feature  Importance\n",
      "0          last_pymnt_amnt    0.537847\n",
      "1          total_rec_prncp    0.450717\n",
      "2                     year    0.008906\n",
      "6  incident_type_Snowstorm    0.000849\n",
      "3       incident_type_Fire    0.000451\n",
      "7                 state_IN    0.000432\n",
      "5  incident_type_Hurricane    0.000316\n",
      "9                 state_VA    0.000211\n",
      "8                 state_TX    0.000163\n",
      "4      incident_type_Flood    0.000110\n"
     ]
    }
   ],
   "source": [
    "#Get feature importances\n",
    "importances = random_forest_model.feature_importances_\n",
    "\n",
    "#Create a DataFrame to view the features and their importance scores\n",
    "features_df = pd.DataFrame({'Feature': X.columns, 'Importance': importances})\n",
    "\n",
    "#Sort the DataFrame to see the most important features at the top\n",
    "features_df.sort_values(by='Importance', ascending=False, inplace=True)\n",
    "\n",
    "print(features_df)"
   ]
  },
  {
   "cell_type": "code",
   "execution_count": 66,
   "id": "58bcc9ba",
   "metadata": {
    "execution": {
     "iopub.execute_input": "2024-06-26T17:56:30.923524Z",
     "iopub.status.busy": "2024-06-26T17:56:30.922830Z",
     "iopub.status.idle": "2024-06-26T17:56:31.269029Z",
     "shell.execute_reply": "2024-06-26T17:56:31.268110Z"
    },
    "papermill": {
     "duration": 0.388245,
     "end_time": "2024-06-26T17:56:31.271515",
     "exception": false,
     "start_time": "2024-06-26T17:56:30.883270",
     "status": "completed"
    },
    "tags": []
   },
   "outputs": [
    {
     "data": {
      "text/plain": [
       "<function matplotlib.pyplot.show(close=None, block=None)>"
      ]
     },
     "execution_count": 66,
     "metadata": {},
     "output_type": "execute_result"
    },
    {
     "data": {
      "image/png": "[encoded data removed]",
      "text/plain": [
       "<Figure size 1000x600 with 1 Axes>"
      ]
     },
     "metadata": {},
     "output_type": "display_data"
    }
   ],
   "source": [
    "#Visualize the feature importances\n",
    "plt.figure(figsize=(10, 6))\n",
    "plt.barh(features_df['Feature'], features_df['Importance'], color='DarkGreen')\n",
    "plt.xlabel('Importance')\n",
    "plt.title('Feature Importances')\n",
    "plt.gca().invert_yaxis()  \n",
    "plt.show"
   ]
  },
  {
   "cell_type": "markdown",
   "id": "7a904aaa",
   "metadata": {
    "papermill": {
     "duration": 0.039847,
     "end_time": "2024-06-26T17:56:31.354117",
     "exception": false,
     "start_time": "2024-06-26T17:56:31.314270",
     "status": "completed"
    },
    "tags": []
   },
   "source": [
    "# Final Evaluation"
   ]
  },
  {
   "cell_type": "markdown",
   "id": "35cc3f44",
   "metadata": {
    "papermill": {
     "duration": 0.039941,
     "end_time": "2024-06-26T17:56:31.435169",
     "exception": false,
     "start_time": "2024-06-26T17:56:31.395228",
     "status": "completed"
    },
    "tags": []
   },
   "source": [
    "**Feature Importance score for the Random Forest model:** \n",
    "* 'last_pymnt_amnt' contains a score of 0.54\n",
    "* 'total_rec_prncp' contains a score of 0.45 \n",
    "* 'year' contains a score of 0.009\n",
    "* 'incident_type' contains a score between 0.0001 to 0.0009\n",
    "* 'state' contains a score between 0.0001 to 0.0004\n",
    "\n",
    "The feature importance score suggests that 'last_pymnt_amnt' and 'total_rec_prncp,' are the most important features for predicting loan defaults, with the natural disaster variables far behind."
   ]
  },
  {
   "cell_type": "markdown",
   "id": "dad1aea8",
   "metadata": {
    "papermill": {
     "duration": 0.040378,
     "end_time": "2024-06-26T17:56:31.515782",
     "exception": false,
     "start_time": "2024-06-26T17:56:31.475404",
     "status": "completed"
    },
    "tags": []
   },
   "source": [
    "**Research Question:**\n",
    "\n",
    "The occurence of natural disasters in the United States from 2012 to 2019 cannot be used as a predictor for loan defaults, as there is no correlation between natural disasters and loan status in the dataset."
   ]
  },
  {
   "cell_type": "markdown",
   "id": "42f17930",
   "metadata": {
    "papermill": {
     "duration": 0.040514,
     "end_time": "2024-06-26T17:56:31.597066",
     "exception": false,
     "start_time": "2024-06-26T17:56:31.556552",
     "status": "completed"
    },
    "tags": []
   },
   "source": [
    "**Alternative Hypothesis (H1):**\n",
    "\n",
    "This results in rejecting the Alternative Hypothesis (H1) as the evidence suggests that the occurrence of natural disasters in the United States from 2012 to 2019 is not significant."
   ]
  },
  {
   "cell_type": "markdown",
   "id": "aa6a2810",
   "metadata": {
    "papermill": {
     "duration": 0.040021,
     "end_time": "2024-06-26T17:56:31.677171",
     "exception": false,
     "start_time": "2024-06-26T17:56:31.637150",
     "status": "completed"
    },
    "tags": []
   },
   "source": [
    "**Null Hypothesis (H0):**\n",
    "\n",
    "We accept the Null Hypothesis (H0), as the evidence supports the conclusion that natural disasters in the specified period have no predictive power for loan defaults."
   ]
  }
 ],
 "metadata": {
  "kaggle": {
   "accelerator": "none",
   "dataSources": [
    {
     "datasetId": 1415343,
     "sourceId": 2344503,
     "sourceType": "datasetVersion"
    },
    {
     "datasetId": 619729,
     "sourceId": 5287621,
     "sourceType": "datasetVersion"
    }
   ],
   "dockerImageVersionId": 30673,
   "isGpuEnabled": false,
   "isInternetEnabled": true,
   "language": "python",
   "sourceType": "notebook"
  },
  "kernelspec": {
   "display_name": "Python 3",
   "language": "python",
   "name": "python3"
  },
  "language_info": {
   "codemirror_mode": {
    "name": "ipython",
    "version": 3
   },
   "file_extension": ".py",
   "mimetype": "text/x-python",
   "name": "python",
   "nbconvert_exporter": "python",
   "pygments_lexer": "ipython3",
   "version": "3.10.13"
  },
  "papermill": {
   "default_parameters": {},
   "duration": 342.275165,
   "end_time": "2024-06-26T17:56:33.043048",
   "environment_variables": {},
   "exception": null,
   "input_path": "__notebook__.ipynb",
   "output_path": "__notebook__.ipynb",
   "parameters": {},
   "start_time": "2024-06-26T17:50:50.767883",
   "version": "2.5.0"
  }
 },
 "nbformat": 4,
 "nbformat_minor": 5
}
